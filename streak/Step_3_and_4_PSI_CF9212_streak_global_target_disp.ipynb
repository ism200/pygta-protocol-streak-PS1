{
 "cells": [
  {
   "cell_type": "markdown",
   "metadata": {},
   "source": [
    "# Simultaneous global and target analysis of the timeresolved fluorescence of WL-PSI and FRL-PSI of CF9212"
   ]
  },
  {
   "cell_type": "markdown",
   "metadata": {},
   "source": [
    "## Step 3a Defining datasets and inspect data"
   ]
  },
  {
   "cell_type": "code",
   "execution_count": null,
   "metadata": {},
   "outputs": [],
   "source": [
    "from __future__ import annotations\n",
    "\n",
    "from glotaran.io import load_parameters, save_result\n",
    "from glotaran.optimization.optimize import optimize\n",
    "from glotaran.project.scheme import Scheme\n",
    "from pyglotaran_extras.inspect import show_a_matrixes\n",
    "from pyglotaran_extras.plotting.style import PlotStyle\n",
    "from pyglotaran_extras import (\n",
    "    plot_overview,\n",
    "    plot_data_overview,\n",
    "    plot_fitted_traces,\n",
    "    select_plot_wavelengths,\n",
    ")"
   ]
  },
  {
   "cell_type": "markdown",
   "metadata": {},
   "source": [
    "The code below defined the (groups of) datasets used in the analysis. Only for the three FRL datasets the plot_data_overview is shown to avoid repetition, it is left as an exercise to the reader to inspect the WL data."
   ]
  },
  {
   "cell_type": "code",
   "execution_count": null,
   "metadata": {},
   "outputs": [],
   "source": [
    "# order FRLtr1, WLtr1, FRLtr2, WLtr2, FRLtr4, WLtr4\n",
    "CF9212DATA_PATH1 = \"data/PSI_9212FR_WLtr124av4nobridgetarget_nsuml2a.ascii\"\n",
    "CF9212DATA_PATH2 = \"data/PSI_9212FR_WLtr124av4nobridgetarget_nsuml2b.ascii\"\n",
    "CF9212DATA_PATH3 = \"data/PSI_9212FR_WLtr124av4nobridgetarget_nsuml2c.ascii\"\n",
    "CF9212DATA_PATH4 = \"data/PSI_9212FR_WLtr124av4nobridgetarget_nsuml2d.ascii\"\n",
    "CF9212DATA_PATH5 = \"data/PSI_9212FR_WLtr124av4nobridgetarget_nsuml2e.ascii\"\n",
    "CF9212DATA_PATH6 = \"data/PSI_9212FR_WLtr124av4nobridgetarget_nsuml2f.ascii\"\n",
    "\n",
    "# to omit this plot comment the next lines with \"Ctrl /\"\n",
    "plotFRL_PSI_TR1=plot_data_overview(\n",
    "    CF9212DATA_PATH1,\n",
    "    nr_of_data_svd_vectors=5,\n",
    "    linlog=False,\n",
    "    linthresh=10,\n",
    "    irf_location=57,\n",
    "    title=\"FRL-PSI Time Range 1\",\n",
    "    use_svd_number=True,\n",
    ")"
   ]
  },
  {
   "cell_type": "code",
   "execution_count": null,
   "metadata": {},
   "outputs": [],
   "source": [
    "plotFRL_PSI_TR2=plot_data_overview(\n",
    "    CF9212DATA_PATH3,\n",
    "    nr_of_data_svd_vectors=5,\n",
    "    linlog=False,\n",
    "    linthresh=10,\n",
    "    irf_location=57,\n",
    "    title=\"FRL-PSI Time Range 2\",\n",
    "    use_svd_number=True,\n",
    ")"
   ]
  },
  {
   "cell_type": "code",
   "execution_count": null,
   "metadata": {},
   "outputs": [],
   "source": [
    "plotFRL_PSI_TR4=plot_data_overview(\n",
    "    CF9212DATA_PATH5,\n",
    "    nr_of_data_svd_vectors=5,\n",
    "    linlog=False,\n",
    "    linthresh=100,\n",
    "    irf_location=214,\n",
    "    title=\"FRL-PSI Time Range 4\",\n",
    "    use_svd_number=True,\n",
    ")"
   ]
  },
  {
   "cell_type": "markdown",
   "metadata": {},
   "source": [
    "## Step 3b Motivation of the model for the simultaneous global analysis of the FRL-PSI data"
   ]
  },
  {
   "cell_type": "markdown",
   "metadata": {},
   "source": [
    "With all three time ranges the SVD points to a rank 5 matrix, which will require at least five temporally and spectrally linearly independent components. There is preknowledge that in FRL-PSI some free Chla and free Chlf are present, which have similar lifetimes of ~3 ns. Therefore we will start the global analysis with a sequential scheme with four compartments, plus two parallelly decaying free Chla and free Chlf compartments.\n",
    "Analogous to WL-PSI we model the IRF with a double Gaussian shape and the dispersion with a 2nd order polynomial.\n",
    "We will use independent free Chla and free Chlf fractions. To resolve the free Chla and free Chlf SAS we will use as a guidance the free Chla SAS estimated with WL-PSI, and a spectral constraint that the free Chlf SAS is zero below 700 nm."
   ]
  },
  {
   "cell_type": "markdown",
   "metadata": {},
   "source": [
    "### Optional: display model file and starting parameters"
   ]
  },
  {
   "cell_type": "markdown",
   "metadata": {},
   "source": [
    "#### Model file"
   ]
  },
  {
   "cell_type": "code",
   "execution_count": null,
   "metadata": {},
   "outputs": [],
   "source": [
    "# Uncomment the following 3 lines to display the target model file in the notebook\n",
    "# from glotaran.utils.ipython import display_file\n",
    "# target_model_path = \"models/globalFRLstep3_PSI_CF9212_streak_global_dispFRL.yml\"\n",
    "# display_file(target_model_path, syntax=\"yaml\")\n",
    "\n",
    "# Alternatively (recommended), open the file in a text editor to see the model definition\n"
   ]
  },
  {
   "cell_type": "markdown",
   "metadata": {},
   "source": [
    "#### Parameters file"
   ]
  },
  {
   "cell_type": "code",
   "execution_count": null,
   "metadata": {},
   "outputs": [],
   "source": [
    "# Uncomment the last 3 lines and run the cell to print the starting values of the analysis\n",
    "# These starting values have already been optimized, hence the name optimizedparameters\n",
    "# target_parameters_path = \"models/globalFRLstep3_PSI_CF9212_streak_global_dispFRL.csv\"\n",
    "# optimizedparameters = load_parameters(target_parameters_path)\n",
    "# optimizedparameters\n"
   ]
  },
  {
   "cell_type": "markdown",
   "metadata": {},
   "source": [
    "## Step 3b Create scheme for the simultaneous global analysis of the FRL-PSI data and optimize it"
   ]
  },
  {
   "cell_type": "code",
   "execution_count": null,
   "metadata": {},
   "outputs": [],
   "source": [
    "target_scheme = Scheme(\n",
    "    model=\"models/globalFRLstep3_PSI_CF9212_streak_global_dispFRL.yml\",  # type: ignore\n",
    "    parameters=\"models/globalFRLstep3_PSI_CF9212_streak_global_dispFRL.csv\",\n",
    "    maximum_number_function_evaluations=7,\n",
    "    clp_link_tolerance=0.1,\n",
    "    data={\n",
    "        \"CF9212FRLtr1\": CF9212DATA_PATH1,\n",
    "        \"CF9212FRLtr2\": CF9212DATA_PATH3,\n",
    "        \"CF9212FRLtr4\": CF9212DATA_PATH5,\n",
    "        \"freeChlaSAS\": \"data/20230912PSI_CF9212_streak_targetWL_disp_CF9212freeChla.ascii\",\n",
    "    },  # type: ignore\n",
    ")\n",
    "target_scheme.validate()"
   ]
  },
  {
   "cell_type": "code",
   "execution_count": null,
   "metadata": {},
   "outputs": [],
   "source": [
    "# warning: this can take a minute or two, even on a fast machine\n",
    "target_result1 = optimize(target_scheme, raise_exception=True)"
   ]
  },
  {
   "cell_type": "markdown",
   "metadata": {},
   "source": [
    "For reference, the final Cost should be\n",
    "-  (nfev) 7  (cost) 4.1479e+02"
   ]
  },
  {
   "cell_type": "code",
   "execution_count": null,
   "metadata": {},
   "outputs": [],
   "source": [
    "target_result1"
   ]
  },
  {
   "cell_type": "code",
   "execution_count": null,
   "metadata": {},
   "outputs": [],
   "source": [
    "from custom_plotting import plot_svd_of_residual\n",
    "\n",
    "fig, axes = plot_svd_of_residual(\n",
    "    [target_result1.data[\"CF9212FRLtr1\"],\n",
    "    target_result1.data[\"CF9212FRLtr2\"],\n",
    "    target_result1.data[\"CF9212FRLtr4\"]],\n",
    "    linlog=True,\n",
    "    linthresh=100,\n",
    "    index=0,\n",
    "    locations=[57,57,214]\n",
    ")\n",
    "axes[0].annotate(\"A\", xy=(-0.1, 1), xycoords=\"axes fraction\", fontsize=16)\n",
    "axes[1].annotate(\"B\", xy=(-0.1, 1), xycoords=\"axes fraction\", fontsize=16)"
   ]
  },
  {
   "cell_type": "markdown",
   "metadata": {},
   "source": [
    "The residuals are structured, especially the RSV above 780 nm. but since there is no **common** trend, we can accept them."
   ]
  },
  {
   "cell_type": "code",
   "execution_count": null,
   "metadata": {},
   "outputs": [],
   "source": [
    "target_result1.root_mean_square_error"
   ]
  },
  {
   "cell_type": "markdown",
   "metadata": {},
   "source": [
    "### Plot result for interpretation\n"
   ]
  },
  {
   "cell_type": "code",
   "execution_count": null,
   "metadata": {},
   "outputs": [],
   "source": [
    "import matplotlib.pyplot as plt\n",
    "from cycler import cycler\n",
    "from pyglotaran_extras.plotting.plot_concentrations import plot_concentrations\n",
    "from pyglotaran_extras.plotting.plot_spectra import plot_sas\n",
    "from pyglotaran_extras.plotting.plot_spectra import plot_das\n",
    "from pyglotaran_extras.plotting.style import ColorCode\n",
    "\n",
    "# ColorCode.green,\"k\",\n",
    "myFRLcolors = [\n",
    "    \"k\",\n",
    "    \"r\",\n",
    "    \"b\",\n",
    "    \"g\",\n",
    "    ColorCode.green,\n",
    "    \"tab:brown\",\n",
    "    \"tab:grey\",\n",
    "    ColorCode.cyan,\n",
    "    \"w\",\n",
    "]\n",
    "# myFRLcolors2 = [ \"g\",\"tab:orange\",  \"r\", \"k\",ColorCode.magenta,ColorCode.purple, \"w\", \"w\",\"w\",\"w\",\"y\",ColorCode.maroon]\n",
    "myFRLcolors2 = [\n",
    "    \"g\",\n",
    "    \"tab:orange\",\n",
    "    \"r\",\n",
    "    \"k\",\n",
    "    ColorCode.magenta,\n",
    "    ColorCode.indigo,\n",
    "    ColorCode.brown,\n",
    "    \"w\",\n",
    "    \"w\",\n",
    "    \"w\",\n",
    "    \"y\",\n",
    "    ColorCode.maroon,\n",
    "]\n",
    "\n",
    "fig, axes = plt.subplots(1, 3, figsize=(15, 4))\n",
    "custom_cycler = cycler(color=myFRLcolors)\n",
    "plot_concentrations(\n",
    "    target_result1.data[\"CF9212FRLtr1\"],\n",
    "    axes[0],\n",
    "    center_λ=0,\n",
    "    linlog=True,\n",
    "    linthresh=100,\n",
    "    cycler=custom_cycler,\n",
    ")\n",
    "plot_concentrations(\n",
    "    target_result1.data[\"CF9212FRLtr2\"],\n",
    "    axes[0],\n",
    "    center_λ=0,\n",
    "    linlog=True,\n",
    "    linthresh=100,\n",
    "    cycler=custom_cycler,\n",
    ")\n",
    "plot_sas(target_result1.data[\"CF9212FRLtr4\"], axes[1], cycler=custom_cycler)\n",
    "plot_das(target_result1.data[\"CF9212FRLtr4\"], axes[2], cycler=custom_cycler)\n",
    "axes[0].set_xlabel(\"Time (ps)\")\n",
    "axes[0].set_ylabel(\"\")\n",
    "axes[0].axhline(0, color=\"k\", linewidth=1)\n",
    "axes[1].set_xlabel(\"Wavelength (nm)\")\n",
    "axes[2].set_xlabel(\"Wavelength (nm)\")\n",
    "axes[1].set_ylabel(\"\")\n",
    "axes[2].set_ylabel(\"\")\n",
    "axes[1].set_title(\"EAS/SAS\")\n",
    "axes[1].axhline(0, color=\"k\", linewidth=1)\n",
    "axes[0].annotate(\"A\", xy=(-0.05, 1.02), xycoords=\"axes fraction\", fontsize=16)\n",
    "axes[1].annotate(\"B\", xy=(-0.05, 1.02), xycoords=\"axes fraction\", fontsize=16)\n",
    "axes[2].annotate(\"C\", xy=(-0.05, 1.02), xycoords=\"axes fraction\", fontsize=16)"
   ]
  },
  {
   "cell_type": "markdown",
   "metadata": {},
   "source": [
    "### Comparison of the estimated SAS (orange) and the guidance spectrum (blue)\n",
    "The guidance spectrum of free Chla is the shape estimated in the WL target"
   ]
  },
  {
   "cell_type": "code",
   "execution_count": null,
   "metadata": {},
   "outputs": [],
   "source": [
    "fig, axes = plt.subplots(1, 1, figsize=(5, 5))\n",
    "target_result1.data[\"freeChlaSAS\"].data.plot(ax=axes)\n",
    "target_result1.data[\"freeChlaSAS\"].fitted_data.plot(ax=axes)\n",
    "axes.set_xlabel(\"Wavelength (nm)\")\n",
    "axes.set_ylabel(\"\")\n",
    "axes.set_title(\"Bulk Chl a\")"
   ]
  },
  {
   "cell_type": "code",
   "execution_count": null,
   "metadata": {},
   "outputs": [],
   "source": [
    "show_a_matrixes(target_result1)"
   ]
  },
  {
   "cell_type": "code",
   "execution_count": null,
   "metadata": {},
   "outputs": [],
   "source": [
    "target_result1.optimized_parameters"
   ]
  },
  {
   "cell_type": "markdown",
   "metadata": {},
   "source": [
    "### Compute the FWHM of the main Gaussian of the IRF"
   ]
  },
  {
   "cell_type": "code",
   "execution_count": null,
   "metadata": {},
   "outputs": [],
   "source": [
    "import numpy as np\n",
    "\n",
    "const = 2 * np.sqrt(2 * np.log(2))\n",
    "[\n",
    "    const * target_result1.optimized_parameters.get(\"CF9212irfFRLtr1.width1\").value,\n",
    "    const * target_result1.optimized_parameters.get(\"CF9212irfFRLtr2.width1\").value,\n",
    "    const * target_result1.optimized_parameters.get(\"CF9212irfFRLtr4.width1\").value,\n",
    "]"
   ]
  },
  {
   "cell_type": "markdown",
   "metadata": {},
   "source": [
    "### Fit quality of the global analysis of the FRL data"
   ]
  },
  {
   "cell_type": "code",
   "execution_count": null,
   "metadata": {},
   "outputs": [],
   "source": [
    "from custom_plotting import plot_fitted_traces_iscience\n",
    "from pyglotaran_extras.plotting.style import ColorCode as cc\n",
    "\n",
    "fig, ax_ = plot_fitted_traces_iscience(\n",
    "    target_result1,\n",
    "    [685, 705, 715, 740, 750, 795],\n",
    "    linlog=True,\n",
    "    linthresh=10,\n",
    "    axes_shape=(3, 2),\n",
    "    figsize=(8, 6),\n",
    "    title=\"\",\n",
    "    per_axis_legend=True,\n",
    "    cycler=cycler(\n",
    "        color=[\n",
    "            cc.grey,\n",
    "            cc.black,\n",
    "            cc.orange,\n",
    "            cc.red,\n",
    "            cc.cyan,\n",
    "            cc.blue,\n",
    "        ]\n",
    "    ),\n",
    ")"
   ]
  },
  {
   "cell_type": "markdown",
   "metadata": {},
   "source": [
    "## Step 4 Create target scheme of all data and optimize it\n",
    "The guidance spectra of Red1, Red2, Bulk and WLRC are the shapes estimated in the WL target. The guidance spectrum of FRLRC is a skewed Gaussian shape that is used to soomth this SAS.\n",
    "Use maximum_number_function_evaluations=1 to compute only the precision in the minimum."
   ]
  },
  {
   "cell_type": "code",
   "execution_count": null,
   "metadata": {},
   "outputs": [],
   "source": [
    "target_scheme = Scheme(\n",
    "    model=\"models/targetFRL_WLstep4_PSI_CF9212_streak_target_dispRP2.yml\",  # type: ignore\n",
    "    parameters=\"models/targetFRL_WLstep4_PSI_CF9212_streak_target_dispRP2.csv\",\n",
    "    maximum_number_function_evaluations=7,\n",
    "    clp_link_tolerance=0.1,\n",
    "    data={\n",
    "        \"CF9212FRLtr1\": CF9212DATA_PATH1,\n",
    "        \"CF9212WLtr1\": CF9212DATA_PATH2,\n",
    "        \"CF9212FRLtr2\": CF9212DATA_PATH3,\n",
    "        \"CF9212WLtr2\": CF9212DATA_PATH4,\n",
    "        \"CF9212FRLtr4\": CF9212DATA_PATH5,\n",
    "        \"CF9212WLtr4\": CF9212DATA_PATH6,\n",
    "        \"BulkSAS\": \"data/20230912PSI_CF9212_streak_targetWL_disp_CF9212Bulk.ascii\",\n",
    "        \"Red1SAS\": \"data/20230912PSI_CF9212_streak_targetWL_disp_CF9212Red1.ascii\",\n",
    "        \"Red2SAS\": \"data/20230912PSI_CF9212_streak_targetWL_disp_CF9212Red2.ascii\",\n",
    "        \"WLRCSAS\": \"data/20230912PSI_CF9212_streak_targetWL_disp_CF9212WLRC.ascii\",\n",
    "        \"FRLRCSAS\": \"data/20230910PSI_CF9212_streak_target_disp_CF9212_FRLRC_fitted.ascii\",\n",
    "    },  # type: ignore\n",
    ")\n",
    "target_scheme.validate()"
   ]
  },
  {
   "cell_type": "code",
   "execution_count": null,
   "metadata": {},
   "outputs": [],
   "source": [
    "# warning: this can take a minute or two, even on a fast machine\n",
    "target_result = optimize(target_scheme, raise_exception=True)"
   ]
  },
  {
   "cell_type": "markdown",
   "metadata": {},
   "source": [
    "For reference, the initial Cost should be\n",
    "-  0              1         5.7972e+02 with many parameters freed to compute the precision in the minimum"
   ]
  },
  {
   "cell_type": "markdown",
   "metadata": {},
   "source": [
    "To save the results of the optimization we can use the `save_result` command.\n",
    "\n",
    "Because it saves *everything* it consumes about **100 MB** of disk space per save."
   ]
  },
  {
   "cell_type": "code",
   "execution_count": null,
   "metadata": {},
   "outputs": [],
   "source": [
    "save_result(\n",
    "    result=target_result,\n",
    "    result_path=\"results/20230915target_disp/result.yaml\",\n",
    "    allow_overwrite=True,\n",
    ")"
   ]
  },
  {
   "cell_type": "code",
   "execution_count": null,
   "metadata": {},
   "outputs": [],
   "source": [
    "target_result2 = target_result"
   ]
  },
  {
   "cell_type": "code",
   "execution_count": null,
   "metadata": {},
   "outputs": [],
   "source": [
    "target_result2"
   ]
  },
  {
   "cell_type": "code",
   "execution_count": null,
   "metadata": {},
   "outputs": [],
   "source": [
    "target_result1"
   ]
  },
  {
   "cell_type": "markdown",
   "metadata": {},
   "source": [
    "### Print the estimates of the optimized parameters and their precision \n",
    "The t-values of the **free** parameters (Vary=True) indicate the precision"
   ]
  },
  {
   "cell_type": "code",
   "execution_count": null,
   "metadata": {},
   "outputs": [],
   "source": [
    "target_result2.optimized_parameters"
   ]
  },
  {
   "cell_type": "markdown",
   "metadata": {},
   "source": [
    "### Plot target WL+FRL result for interpretation\n"
   ]
  },
  {
   "cell_type": "code",
   "execution_count": null,
   "metadata": {},
   "outputs": [],
   "source": [
    "import matplotlib.pyplot as plt\n",
    "from cycler import cycler\n",
    "from pyglotaran_extras.plotting.plot_concentrations import plot_concentrations\n",
    "from pyglotaran_extras.plotting.plot_spectra import plot_sas\n",
    "from pyglotaran_extras.plotting.style import ColorCode\n",
    "\n",
    "# ColorCode.green,\"k\",\n",
    "myFRLcolors = [\"g\", \"tab:orange\", \"r\", \"tab:grey\", ColorCode.cyan, \"b\", ColorCode.green]\n",
    "# myFRLcolors2 = [ \"g\",\"tab:orange\",  \"r\", \"k\",ColorCode.magenta,ColorCode.purple, \"w\", \"w\",\"w\",\"w\",\"y\",ColorCode.maroon]\n",
    "myFRLcolors2 = [\n",
    "    \"g\",\n",
    "    \"tab:orange\",\n",
    "    \"r\",\n",
    "    \"k\",\n",
    "    ColorCode.magenta,\n",
    "    ColorCode.indigo,\n",
    "    ColorCode.brown,\n",
    "    ColorCode.maroon,\n",
    "    ColorCode.green,\n",
    "    \"y\",\n",
    "]\n",
    "\n",
    "fig, axes = plt.subplots(1, 2, figsize=(15, 4))\n",
    "custom_cycler = cycler(color=myFRLcolors, linestyle=[\"--\"] * 7)\n",
    "# plot_concentrations(target_result.data[\"CF9212WLtr2\"], axes[0], center_λ=0, linlog=True, linthresh=100, cycler=custom_cycler)\n",
    "plot_concentrations(\n",
    "    target_result.data[\"CF9212WLtr4\"],\n",
    "    axes[0],\n",
    "    center_λ=0,\n",
    "    linlog=True,\n",
    "    linthresh=100,\n",
    "    cycler=custom_cycler,\n",
    ")\n",
    "custom_cycler2 = cycler(color=myFRLcolors2)\n",
    "# plot_concentrations(target_result.data[\"CF9212FRLtr2\"], axes[0], center_λ=0, linlog=True, linthresh=100, cycler=custom_cycler2)\n",
    "plot_concentrations(\n",
    "    target_result.data[\"CF9212FRLtr4\"],\n",
    "    axes[0],\n",
    "    center_λ=0,\n",
    "    linlog=True,\n",
    "    linthresh=100,\n",
    "    cycler=custom_cycler2,\n",
    ")\n",
    "plot_sas(target_result.data[\"CF9212FRLtr4\"], axes[1], cycler=custom_cycler2)\n",
    "plot_sas(target_result.data[\"CF9212WLtr4\"], axes[1], cycler=custom_cycler)\n",
    "axes[0].set_xlabel(\"Time (ps)\")\n",
    "axes[0].set_ylabel(\"\")\n",
    "axes[0].axhline(0, color=\"k\", linewidth=1)\n",
    "axes[1].set_xlabel(\"Wavelength (nm)\")\n",
    "axes[1].set_ylabel(\"SAS\")\n",
    "axes[1].set_title(\"SAS\")\n",
    "axes[1].axhline(0, color=\"k\", linewidth=1)\n",
    "axes[0].annotate(\"A\", xy=(-0.05, 1.02), xycoords=\"axes fraction\", fontsize=16)\n",
    "axes[1].annotate(\"B\", xy=(-0.05, 1.02), xycoords=\"axes fraction\", fontsize=16)"
   ]
  },
  {
   "cell_type": "code",
   "execution_count": null,
   "metadata": {},
   "outputs": [],
   "source": [
    "import matplotlib.pyplot as plt\n",
    "from cycler import cycler\n",
    "from pyglotaran_extras.plotting.plot_concentrations import plot_concentrations\n",
    "from pyglotaran_extras.plotting.plot_spectra import plot_sas\n",
    "from pyglotaran_extras.plotting.style import ColorCode\n",
    "\n",
    "FRLspecies = [\n",
    "    \"CF9212Bulk\",\n",
    "    \"CF9212Red1\",\n",
    "    \"CF9212Red2\",\n",
    "    \"CF9212FRLRC\",\n",
    "    \"CF9212Chlf1\",\n",
    "    \"CF9212Chlf2\",\n",
    "    \"CF9212FRLRP1\",\n",
    "]\n",
    "WLspecies = [\n",
    "    \"CF9212Bulk\",\n",
    "    \"CF9212Red1\",\n",
    "    \"CF9212Red2\",\n",
    "    \"CF9212WLRC\",\n",
    "    \"CF9212WLRP1\",\n",
    "]\n",
    "FRLspecies = [\n",
    "    \"CF9212Bulk\",\n",
    "    \"CF9212Red1\",\n",
    "    \"CF9212Red2\",\n",
    "    \"CF9212FRLRC\",\n",
    "    \"CF9212Chlf1\",\n",
    "    \"CF9212Chlf2\",\n",
    "    \"CF9212FRLRP1\",\n",
    "    \"CF9212FRLRP2\",\n",
    "]\n",
    "WLspecies = [\n",
    "    \"CF9212Bulk\",\n",
    "    \"CF9212Red1\",\n",
    "    \"CF9212Red2\",\n",
    "    \"CF9212WLRC\",\n",
    "    \"CF9212WLRP1\",\n",
    "    \"CF9212WLRP2\",\n",
    "]\n",
    "fig, axes = plt.subplots(1, 2, figsize=(15, 4))\n",
    "custom_cycler = cycler(color=myFRLcolors, linestyle=[\"--\"] * 7)\n",
    "# plot_concentrations(target_result.data[\"CF9212WLtr2\"].sel(species=WLspecies), axes[0], center_λ=0, linlog=True, linthresh=100, cycler=custom_cycler)\n",
    "plot_concentrations(\n",
    "    target_result.data[\"CF9212WLtr4\"].sel(species=WLspecies),\n",
    "    axes[0],\n",
    "    center_λ=0,\n",
    "    linlog=True,\n",
    "    linthresh=100,\n",
    "    cycler=custom_cycler,\n",
    ")\n",
    "custom_cycler2 = cycler(color=myFRLcolors2)\n",
    "# plot_concentrations(target_result.data[\"CF9212FRLtr2\"].sel(species=FRLspecies), axes[0], center_λ=0, linlog=True, linthresh=100, cycler=custom_cycler2)\n",
    "plot_concentrations(\n",
    "    target_result.data[\"CF9212FRLtr4\"].sel(species=FRLspecies),\n",
    "    axes[0],\n",
    "    center_λ=0,\n",
    "    linlog=True,\n",
    "    linthresh=100,\n",
    "    cycler=custom_cycler2,\n",
    ")\n",
    "plot_sas(\n",
    "    target_result.data[\"CF9212FRLtr4\"].sel(species=FRLspecies),\n",
    "    axes[1],\n",
    "    cycler=custom_cycler2,\n",
    ")\n",
    "plot_sas(\n",
    "    target_result.data[\"CF9212WLtr4\"].sel(species=WLspecies),\n",
    "    axes[1],\n",
    "    cycler=custom_cycler,\n",
    ")\n",
    "axes[0].set_xlabel(\"Time (ps)\")\n",
    "axes[0].set_ylabel(\"\")\n",
    "axes[0].axhline(0, color=\"k\", linewidth=1)\n",
    "axes[1].set_xlabel(\"Wavelength (nm)\")\n",
    "axes[1].set_ylabel(\"SAS\")\n",
    "axes[1].set_title(\"SAS\")\n",
    "axes[1].axhline(0, color=\"k\", linewidth=1)\n",
    "axes[0].annotate(\"A\", xy=(-0.05, 1.02), xycoords=\"axes fraction\", fontsize=16)\n",
    "axes[1].annotate(\"B\", xy=(-0.05, 1.02), xycoords=\"axes fraction\", fontsize=16)\n"
   ]
  },
  {
   "cell_type": "code",
   "execution_count": null,
   "metadata": {},
   "outputs": [],
   "source": [
    "constFRLRC = 1 / target_result2.optimized_parameters.get(\"scale.FRLRCSAS\").value\n",
    "constFRLRC"
   ]
  },
  {
   "cell_type": "code",
   "execution_count": null,
   "metadata": {},
   "outputs": [],
   "source": [
    "import matplotlib.pyplot as plt\n",
    "from cycler import cycler\n",
    "from pyglotaran_extras.plotting.plot_concentrations import plot_concentrations\n",
    "from pyglotaran_extras.plotting.plot_spectra import plot_sas\n",
    "from pyglotaran_extras.plotting.style import ColorCode\n",
    "\n",
    "FRLspecies = [\n",
    "    \"CF9212Bulk\",\n",
    "    \"CF9212Red1\",\n",
    "    \"CF9212Red2\",\n",
    "    \"CF9212FRLRC\",\n",
    "    \"CF9212Chlf1\",\n",
    "    \"CF9212Chlf2\",\n",
    "]\n",
    "WLspecies = [\"CF9212Bulk\", \"CF9212Red1\", \"CF9212Red2\", \"CF9212WLRC\"]\n",
    "fig, axes = plt.subplots(2, 2, figsize=(15, 8))\n",
    "custom_cycler = cycler(color=myFRLcolors, linestyle=[\"--\"] * 7)\n",
    "# plot_concentrations(target_result.data[\"CF9212WLtr2\"].sel(species=WLspecies), axes[0], center_λ=0, linlog=True, linthresh=100, cycler=custom_cycler)\n",
    "plot_concentrations(\n",
    "    target_result.data[\"CF9212WLtr4\"].sel(species=WLspecies),\n",
    "    axes[0, 0],\n",
    "    center_λ=0,\n",
    "    linlog=True,\n",
    "    linthresh=100,\n",
    "    cycler=custom_cycler,\n",
    ")\n",
    "custom_cycler2 = cycler(color=myFRLcolors2)\n",
    "# plot_concentrations(target_result.data[\"CF9212FRLtr2\"].sel(species=FRLspecies), axes[0], center_λ=0, linlog=True, linthresh=100, cycler=custom_cycler2)\n",
    "plot_concentrations(\n",
    "    target_result.data[\"CF9212FRLtr4\"].sel(species=FRLspecies),\n",
    "    axes[0, 0],\n",
    "    center_λ=0,\n",
    "    linlog=True,\n",
    "    linthresh=100,\n",
    "    cycler=custom_cycler2,\n",
    ")\n",
    "plot_sas(\n",
    "    target_result.data[\"CF9212FRLtr4\"].sel(species=FRLspecies),\n",
    "    axes[0, 1],\n",
    "    cycler=custom_cycler2,\n",
    ")\n",
    "plot_sas(\n",
    "    target_result.data[\"CF9212WLtr4\"].sel(species=WLspecies),\n",
    "    axes[0, 1],\n",
    "    cycler=custom_cycler,\n",
    ")\n",
    "# axes[0].legend()\n",
    "axes[0, 0].set_xlabel(\"\")\n",
    "axes[0, 0].set_ylabel(\"\")\n",
    "axes[0, 0].axhline(0, color=\"k\", linewidth=1)\n",
    "axes[0, 1].set_xlabel(\"\")\n",
    "axes[0, 1].set_ylabel(\"SAS\")\n",
    "axes[0, 1].set_title(\"SAS\")\n",
    "axes[0, 1].axhline(0, color=\"k\", linewidth=1)\n",
    "axes[0, 0].annotate(\"A\", xy=(-0.05, 1.02), xycoords=\"axes fraction\", fontsize=16)\n",
    "axes[0, 1].annotate(\"B\", xy=(-0.05, 1.02), xycoords=\"axes fraction\", fontsize=16)\n",
    "FRLspecies = [\n",
    "    \"CF9212Bulk\",\n",
    "    \"CF9212Red1\",\n",
    "    \"CF9212Red2\",\n",
    "    \"CF9212FRLRC\",\n",
    "    \"CF9212Chlf1\",\n",
    "    \"CF9212Chlf2\",\n",
    "    \"CF9212FRLRP1\",\n",
    "    \"CF9212FRLRP2\",\n",
    "]\n",
    "WLspecies = [\n",
    "    \"CF9212Bulk\",\n",
    "    \"CF9212Red1\",\n",
    "    \"CF9212Red2\",\n",
    "    \"CF9212WLRC\",\n",
    "    \"CF9212WLRP1\",\n",
    "    \"CF9212WLRP2\",\n",
    "]\n",
    "custom_cycler = cycler(color=myFRLcolors, linestyle=[\"--\"] * 7)\n",
    "# plot_concentrations(target_result.data[\"CF9212WLtr2\"].sel(species=WLspecies), axes[0], center_λ=0, linlog=True, linthresh=100, cycler=custom_cycler)\n",
    "plot_concentrations(\n",
    "    target_result.data[\"CF9212WLtr4\"].sel(species=WLspecies),\n",
    "    axes[1, 0],\n",
    "    center_λ=0,\n",
    "    linlog=True,\n",
    "    linthresh=100,\n",
    "    cycler=custom_cycler,\n",
    ")\n",
    "custom_cycler2 = cycler(color=myFRLcolors2)\n",
    "# plot_concentrations(target_result.data[\"CF9212FRLtr2\"].sel(species=FRLspecies), axes[0], center_λ=0, linlog=True, linthresh=100, cycler=custom_cycler2)\n",
    "plot_concentrations(\n",
    "    target_result.data[\"CF9212FRLtr4\"].sel(species=FRLspecies),\n",
    "    axes[1, 0],\n",
    "    center_λ=0,\n",
    "    linlog=True,\n",
    "    linthresh=100,\n",
    "    cycler=custom_cycler2,\n",
    ")\n",
    "# axes[0].get_legend_handles_labels()\n",
    "target_result.data[\"FRLRCSAS\"].data.plot(ax=axes[1, 1], color=\"k\", linestyle=\"--\")\n",
    "target_result.data[\"FRLRCSAS\"].fitted_data.plot(ax=axes[1, 1], color=\"k\", linestyle=\"-\")\n",
    "axes[1, 1].convert_yunits(constFRLRC)\n",
    "axes[1, 1].set_title(\"FRL-RC guide\")\n",
    "axes[1, 1].set_xlabel(\"Wavelength (nm)\")\n",
    "axes[1, 0].set_xlabel(\"Time (ps)\")\n",
    "axes[1, 0].set_ylabel(\"\")\n",
    "axes[1, 1].set_ylabel(\"\")\n",
    "axes[1, 0].annotate(\"C\", xy=(-0.05, 1.02), xycoords=\"axes fraction\", fontsize=16)\n",
    "axes[1, 1].annotate(\"D\", xy=(-0.05, 1.02), xycoords=\"axes fraction\", fontsize=16)"
   ]
  },
  {
   "cell_type": "code",
   "execution_count": null,
   "metadata": {},
   "outputs": [],
   "source": [
    "fig, axes = plot_svd_of_residual(\n",
    "    [target_result1.data[\"CF9212FRLtr1\"],\n",
    "    target_result1.data[\"CF9212FRLtr2\"],\n",
    "    target_result1.data[\"CF9212FRLtr4\"]],\n",
    "    linlog=True,\n",
    "    linthresh=100,\n",
    "    index=0,\n",
    "    locations=[57,57,214],\n",
    "# please add a cycler argument, analogous to the plot_fitted_traces_iscience\n",
    "    # cycler=cycler(\n",
    "    #     color=[\"k\", \"r\", \"b\"\n",
    "        # ]\n",
    "    ),\n",
    "axes[0].annotate(\"A\", xy=(-0.1, 1), xycoords=\"axes fraction\", fontsize=16)\n",
    "axes[1].annotate(\"B\", xy=(-0.1, 1), xycoords=\"axes fraction\", fontsize=16)"
   ]
  },
  {
   "cell_type": "markdown",
   "metadata": {},
   "source": [
    "### Comparison of the estimated SAS (orange) and the guidance spectra (blue)\n",
    "The guidance spectra of Red1, Red2, Bulk and WLRC are the shapes estimated in the WL target"
   ]
  },
  {
   "cell_type": "code",
   "execution_count": null,
   "metadata": {},
   "outputs": [],
   "source": [
    "fig, axes = plt.subplots(2, 2, figsize=(10, 10))\n",
    "target_result.data[\"Red1SAS\"].data.plot(ax=axes[0, 0])\n",
    "target_result.data[\"Red1SAS\"].fitted_data.plot(ax=axes[0, 0])\n",
    "target_result.data[\"Red2SAS\"].data.plot(ax=axes[0, 1])\n",
    "target_result.data[\"Red2SAS\"].fitted_data.plot(ax=axes[0, 1])\n",
    "target_result.data[\"FRLRCSAS\"].data.plot(ax=axes[1, 0])\n",
    "target_result.data[\"FRLRCSAS\"].fitted_data.plot(ax=axes[1, 0])\n",
    "target_result.data[\"BulkSAS\"].data.plot(ax=axes[1, 1])\n",
    "target_result.data[\"BulkSAS\"].fitted_data.plot(ax=axes[1, 1])\n",
    "axes[1, 0].set_xlabel(\"Wavelength (nm)\")\n",
    "axes[1, 0].set_ylabel(\"\")\n",
    "axes[0, 0].set_ylabel(\"\")\n",
    "axes[1, 1].set_xlabel(\"Wavelength (nm)\")\n",
    "axes[1, 1].set_ylabel(\"\")\n",
    "axes[0, 1].set_ylabel(\"\")\n",
    "axes[0, 0].set_title(\"Red Chl a1\")\n",
    "axes[0, 1].set_title(\"Red Chl a2\")\n",
    "axes[1, 0].set_title(\"FRL-RC\")\n",
    "axes[1, 1].set_title(\"Bulk Chl a\")\n",
    "axes[0, 0].annotate(\"A\", xy=(-0.05, 1.02), xycoords=\"axes fraction\", fontsize=16)\n",
    "axes[0, 1].annotate(\"B\", xy=(-0.05, 1.02), xycoords=\"axes fraction\", fontsize=16)\n",
    "axes[1, 0].annotate(\"C\", xy=(-0.05, 1.02), xycoords=\"axes fraction\", fontsize=16)\n",
    "axes[1, 1].annotate(\"D\", xy=(-0.05, 1.02), xycoords=\"axes fraction\", fontsize=16)"
   ]
  },
  {
   "cell_type": "code",
   "execution_count": null,
   "metadata": {},
   "outputs": [],
   "source": [
    "fig, axes = plt.subplots(1, 1, figsize=(5, 5))\n",
    "target_result.data[\"WLRCSAS\"].data.plot(ax=axes)\n",
    "target_result.data[\"WLRCSAS\"].fitted_data.plot(ax=axes)\n",
    "axes.set_xlabel(\"Wavelength (nm)\")\n",
    "axes.set_ylabel(\"\")\n",
    "axes.set_title(\"WL-RC\")"
   ]
  },
  {
   "cell_type": "code",
   "execution_count": null,
   "metadata": {},
   "outputs": [],
   "source": [
    "fig, axis = plt.subplots(1, 1, figsize=(3, 2))\n",
    "target_result.data[\"CF9212FRLtr2\"].data.plot(x=\"time\", ax=axis, cmap=\"PuRd\")\n",
    "axis.set_xlabel(\"Time (ps)\")\n",
    "axis.set_ylabel(\"Wavelength (nm)\")"
   ]
  },
  {
   "cell_type": "code",
   "execution_count": null,
   "metadata": {},
   "outputs": [],
   "source": [
    "show_a_matrixes(target_result2)"
   ]
  },
  {
   "cell_type": "code",
   "execution_count": null,
   "metadata": {},
   "outputs": [],
   "source": [
    "target_result2.root_mean_square_error"
   ]
  },
  {
   "cell_type": "markdown",
   "metadata": {},
   "source": [
    "### Create the target WL&FRL guidance data sets\n",
    "These can be used for spectral fits and possible further refinement"
   ]
  },
  {
   "cell_type": "code",
   "execution_count": null,
   "metadata": {},
   "outputs": [],
   "source": [
    "from glotaran.io import save_dataset\n",
    "from glotaran.utils.io import create_clp_guide_dataset\n",
    "\n",
    "for species in target_result.data[\"CF9212WLtr2\"].species:\n",
    "    clp_guide = create_clp_guide_dataset(\n",
    "        target_result.data[\"CF9212WLtr2\"], species.item()\n",
    "    )\n",
    "    string_in_string = \"guide/20230913PSI_CF9212_streak_target_dispRP2_{}.ascii\".format(\n",
    "        species.item()\n",
    "    )\n",
    "    save_dataset(clp_guide.data, string_in_string, allow_overwrite=True)\n",
    "for species in target_result.data[\"CF9212FRLtr2\"].species:\n",
    "    clp_guide = create_clp_guide_dataset(\n",
    "        target_result.data[\"CF9212FRLtr2\"], species.item()\n",
    "    )\n",
    "    string_in_string = \"guide/20230913PSI_CF9212_streak_target_dispRP2_{}.ascii\".format(\n",
    "        species.item()\n",
    "    )\n",
    "    save_dataset(clp_guide.data, string_in_string, allow_overwrite=True)"
   ]
  },
  {
   "cell_type": "markdown",
   "metadata": {},
   "source": [
    "### Overview plots per dataset"
   ]
  },
  {
   "cell_type": "markdown",
   "metadata": {},
   "source": [
    "### WL data"
   ]
  },
  {
   "cell_type": "markdown",
   "metadata": {},
   "source": [
    "NB plot_overview with linlog=True is very slow, but it can be more informative because it zooms in on the early events"
   ]
  },
  {
   "cell_type": "code",
   "execution_count": null,
   "metadata": {},
   "outputs": [],
   "source": [
    "from cycler import cycler\n",
    "\n",
    "fig, axes = plot_overview(\n",
    "    target_result.data[\"CF9212WLtr1\"],\n",
    "    nr_of_data_svd_vectors=5,\n",
    "    nr_of_residual_svd_vectors=1,\n",
    "    linlog=False,\n",
    "    linthresh=100,\n",
    "    cycler=cycler(color=myFRLcolors),\n",
    "    use_svd_number=True,\n",
    "    das_cycler=PlotStyle().cycler,\n",
    "    svd_cycler=PlotStyle().cycler,\n",
    ")"
   ]
  },
  {
   "cell_type": "code",
   "execution_count": null,
   "metadata": {},
   "outputs": [],
   "source": [
    "fig, axes = plot_overview(\n",
    "    target_result.data[\"CF9212WLtr2\"],\n",
    "    nr_of_data_svd_vectors=5,\n",
    "    nr_of_residual_svd_vectors=1,\n",
    "    linlog=False,\n",
    "    linthresh=100,\n",
    "    cycler=cycler(color=myFRLcolors),\n",
    "    use_svd_number=True,\n",
    "    das_cycler=PlotStyle().cycler,\n",
    "    svd_cycler=PlotStyle().cycler,\n",
    ")"
   ]
  },
  {
   "cell_type": "code",
   "execution_count": null,
   "metadata": {},
   "outputs": [],
   "source": [
    "fig, axes = plot_overview(\n",
    "    target_result.data[\"CF9212WLtr4\"],\n",
    "    nr_of_data_svd_vectors=5,\n",
    "    nr_of_residual_svd_vectors=1,\n",
    "    linlog=False,\n",
    "    linthresh=100,\n",
    "    cycler=cycler(color=myFRLcolors),\n",
    "    use_svd_number=True,\n",
    "    das_cycler=PlotStyle().cycler,\n",
    "    svd_cycler=PlotStyle().cycler,\n",
    ")"
   ]
  },
  {
   "cell_type": "markdown",
   "metadata": {},
   "source": [
    "### FRL data"
   ]
  },
  {
   "cell_type": "code",
   "execution_count": null,
   "metadata": {},
   "outputs": [],
   "source": [
    "from cycler import cycler\n",
    "\n",
    "fig, axes = plot_overview(\n",
    "    target_result.data[\"CF9212FRLtr1\"],\n",
    "    nr_of_data_svd_vectors=5,\n",
    "    nr_of_residual_svd_vectors=1,\n",
    "    linlog=False,\n",
    "    linthresh=100,\n",
    "    cycler=cycler(color=myFRLcolors2),\n",
    "    use_svd_number=True,\n",
    "    das_cycler=PlotStyle().cycler,\n",
    "    svd_cycler=PlotStyle().cycler,\n",
    ")"
   ]
  },
  {
   "cell_type": "code",
   "execution_count": null,
   "metadata": {},
   "outputs": [],
   "source": [
    "fig, axes = plot_overview(\n",
    "    target_result.data[\"CF9212FRLtr2\"],\n",
    "    nr_of_data_svd_vectors=5,\n",
    "    nr_of_residual_svd_vectors=1,\n",
    "    linlog=False,\n",
    "    linthresh=100,\n",
    "    cycler=cycler(color=myFRLcolors2),\n",
    "    use_svd_number=True,\n",
    "    das_cycler=PlotStyle().cycler,\n",
    "    svd_cycler=PlotStyle().cycler,\n",
    ")"
   ]
  },
  {
   "cell_type": "code",
   "execution_count": null,
   "metadata": {},
   "outputs": [],
   "source": [
    "fig, axes = plot_overview(\n",
    "    target_result.data[\"CF9212FRLtr4\"],\n",
    "    nr_of_data_svd_vectors=5,\n",
    "    nr_of_residual_svd_vectors=1,\n",
    "    linlog=False,\n",
    "    linthresh=100,\n",
    "    cycler=cycler(color=myFRLcolors2),\n",
    "    use_svd_number=True,\n",
    "    das_cycler=PlotStyle().cycler,\n",
    "    svd_cycler=PlotStyle().cycler,\n",
    ")"
   ]
  },
  {
   "cell_type": "markdown",
   "metadata": {},
   "source": [
    "### Fit quality of the target analysis of the WL+FRL data\n",
    "overlays of traces and fits, first of 16 wavelengths, then of 6 selected wavelengths"
   ]
  },
  {
   "cell_type": "code",
   "execution_count": null,
   "metadata": {},
   "outputs": [],
   "source": [
    "CF9212target_result_streak = (\n",
    "    target_result.data[\"CF9212WLtr1\"],\n",
    "    target_result.data[\"CF9212WLtr2\"],\n",
    "    target_result.data[\"CF9212WLtr4\"],\n",
    "    target_result.data[\"CF9212FRLtr1\"],\n",
    "    target_result.data[\"CF9212FRLtr2\"],\n",
    "    target_result.data[\"CF9212FRLtr4\"],\n",
    ")"
   ]
  },
  {
   "cell_type": "code",
   "execution_count": null,
   "metadata": {},
   "outputs": [],
   "source": [
    "import numpy as np\n",
    "\n",
    "wavelengths = np.linspace(665, 795, num=16)\n",
    "_ = plot_fitted_traces(CF9212target_result_streak, wavelengths, linlog=True, linthresh=100)"
   ]
  },
  {
   "cell_type": "code",
   "execution_count": null,
   "metadata": {},
   "outputs": [],
   "source": [
    "from custom_plotting import plot_fitted_traces_iscience2\n",
    "\n",
    "fig, ax_ = plot_fitted_traces_iscience2(\n",
    "    CF9212target_result_streak,\n",
    "    [685, 705, 715, 740, 750, 795],\n",
    "    linlog=True,\n",
    "    linthresh=10,\n",
    "    axes_shape=(3, 2),\n",
    "    figsize=(8, 6),\n",
    "    title=\"\",\n",
    "    per_axis_legend=True,\n",
    "    cycler=cycler(\n",
    "        color=[\n",
    "            cc.grey,\n",
    "            cc.black,\n",
    "            cc.orange,\n",
    "            cc.red,\n",
    "            cc.cyan,\n",
    "            cc.blue,\n",
    "            cc.green,\n",
    "            \"g\",\n",
    "            cc.magenta,\n",
    "            cc.indigo,\n",
    "            cc.brown,\n",
    "            cc.maroon,\n",
    "        ]\n",
    "    ),\n",
    ")"
   ]
  }
 ],
 "metadata": {
  "kernelspec": {
   "display_name": "Python 3 (ipykernel)",
   "language": "python",
   "name": "python3"
  },
  "language_info": {
   "codemirror_mode": {
    "name": "ipython",
    "version": 3
   },
   "file_extension": ".py",
   "mimetype": "text/x-python",
   "name": "python",
   "nbconvert_exporter": "python",
   "pygments_lexer": "ipython3",
   "version": "3.10.6"
  },
  "vscode": {
   "interpreter": {
    "hash": "c96939a00adbd8139175687d27213cba589faa8203f47f613c3350e59358e0cf"
   }
  }
 },
 "nbformat": 4,
 "nbformat_minor": 4
}
