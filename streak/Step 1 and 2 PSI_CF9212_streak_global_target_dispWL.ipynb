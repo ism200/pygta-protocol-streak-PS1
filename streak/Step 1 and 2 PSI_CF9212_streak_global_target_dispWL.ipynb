{
 "cells": [
  {
   "cell_type": "markdown",
   "metadata": {},
   "source": [
    "# Simultaneous global and target analysis of the timeresolved fluorescence of WL-PSI of CF9212"
   ]
  },
  {
   "cell_type": "markdown",
   "metadata": {},
   "source": [
    "## Step 1a Defining datasets and inspect data"
   ]
  },
  {
   "cell_type": "code",
   "execution_count": null,
   "metadata": {},
   "outputs": [],
   "source": [
    "from __future__ import annotations\n",
    "\n",
    "from glotaran.io import load_parameters, save_result\n",
    "from glotaran.optimization.optimize import optimize\n",
    "from glotaran.project.scheme import Scheme\n",
    "from pyglotaran_extras.inspect import show_a_matrixes\n",
    "from pyglotaran_extras.plotting.style import PlotStyle\n",
    "from pyglotaran_extras import (\n",
    "    plot_overview,\n",
    "    plot_data_overview,\n",
    "    plot_fitted_traces,\n",
    "    select_plot_wavelengths,\n",
    ")\n"
   ]
  },
  {
   "cell_type": "markdown",
   "metadata": {},
   "source": [
    "The code below defined the (groups of) datasets used in the analysis. Only for a single dataset the plot_data_overview is shown to avoid repetition, it is left as an execirse to the reader to inspect the other data."
   ]
  },
  {
   "cell_type": "code",
   "execution_count": null,
   "metadata": {},
   "outputs": [],
   "source": [
    "# order FRLtr1, WLtr1, FRLtr2, WLtr2, FRLtr4\n",
    "CF9212DATA_PATH1 = \"data/PSI_9212FR_WLtr124av4nobridgetarget_nsuml2a.ascii\"\n",
    "CF9212DATA_PATH2 = \"data/PSI_9212FR_WLtr124av4nobridgetarget_nsuml2b.ascii\"\n",
    "CF9212DATA_PATH3 = \"data/PSI_9212FR_WLtr124av4nobridgetarget_nsuml2c.ascii\"\n",
    "CF9212DATA_PATH4 = \"data/PSI_9212FR_WLtr124av4nobridgetarget_nsuml2d.ascii\"\n",
    "CF9212DATA_PATH5 = \"data/PSI_9212FR_WLtr124av4nobridgetarget_nsuml2e.ascii\"\n",
    "CF9212DATA_PATH6 = \"data/PSI_9212FR_WLtr124av4nobridgetarget_nsuml2f.ascii\"\n",
    "\n",
    "# to plot uncomment the next lines with \"Ctrl /\"\n",
    "plot_data_overview(\n",
    "    CF9212DATA_PATH2,\n",
    "    nr_of_data_svd_vectors=4,\n",
    "    linlog=False,\n",
    "    linthresh=10,\n",
    "    irf_location=57,title=\"WL-PSI Time Range 1\",use_svd_number=True\n",
    ");\n",
    "# plot_data_overview(CF9212DATA_PATH2, nr_of_data_svd_vectors=4, linlog=True, linthresh=30,irf_location=57);\n",
    "# etc\n"
   ]
  },
  {
   "cell_type": "code",
   "execution_count": null,
   "metadata": {},
   "outputs": [],
   "source": [
    "plot_data_overview(\n",
    "    CF9212DATA_PATH4,\n",
    "    nr_of_data_svd_vectors=4,\n",
    "    linlog=False,\n",
    "    linthresh=10,\n",
    "    irf_location=57,title=\"WL-PSI Time Range 2\",use_svd_number=True,\n",
    ");\n"
   ]
  },
  {
   "cell_type": "code",
   "execution_count": null,
   "metadata": {},
   "outputs": [],
   "source": [
    "plot_data_overview(\n",
    "    CF9212DATA_PATH6,\n",
    "    nr_of_data_svd_vectors=4,\n",
    "    linlog=False,\n",
    "    linthresh=100,\n",
    "    irf_location=214,title=\"WL-PSI Time Range 4\",use_svd_number=True,\n",
    ");\n"
   ]
  },
  {
   "cell_type": "markdown",
   "metadata": {},
   "source": [
    "## Step 1b Motivation of the simple model"
   ]
  },
  {
   "cell_type": "markdown",
   "metadata": {},
   "source": [
    "With all three time ranges the SVD points to rank 4 matrix, which will require at least four temporally and spectrally linearly independent components. Since there is preknowledge that some free Chla is present we will start the global analysis with a sequential scheme with three compartments, plus a parallelly decaying free Chla compartment. \n",
    "Especially with the shortest time range a parabolic wavelength dependence of the rise of the IRF is visible, therefore we will model this dispersion with a 2nd order polynomial.\n",
    "We will start with a simple Gaussian shaped IRF."
   ]
  },
  {
   "cell_type": "markdown",
   "metadata": {},
   "source": [
    "### Optional: display model file and starting parameters"
   ]
  },
  {
   "cell_type": "markdown",
   "metadata": {},
   "source": [
    "#### Model file"
   ]
  },
  {
   "cell_type": "code",
   "execution_count": null,
   "metadata": {},
   "outputs": [],
   "source": [
    "# Uncomment the following 3 lines to display the target model file in the notebook\n",
    "from glotaran.utils.ipython import display_file\n",
    "target_model_path = \"models/globalWLstep1b_PSI_CF9212_streak_global_dispWLsimple.yml\"\n",
    "display_file(target_model_path, syntax=\"yaml\")\n",
    "\n",
    "# Alternatively (recommended), open the file in a text editor to see the model definition\n"
   ]
  },
  {
   "cell_type": "markdown",
   "metadata": {},
   "source": [
    "#### Parameters file"
   ]
  },
  {
   "cell_type": "code",
   "execution_count": null,
   "metadata": {},
   "outputs": [],
   "source": [
    "# Uncomment the following 3 lines and run the cell to print the starting values of the analysis\n",
    "# These starting values have already been optimized, hence the name optimizedparameters\n",
    "target_parameters_path = \"models/globalWLstep1b_PSI_CF9212_streak_global_dispWLsimple.csv\"\n",
    "optimizedparameters = load_parameters(target_parameters_path)\n",
    "optimizedparameters\n"
   ]
  },
  {
   "cell_type": "markdown",
   "metadata": {},
   "source": [
    "## Step 1b Create scheme with simple Gaussian IRF and optimize it"
   ]
  },
  {
   "cell_type": "code",
   "execution_count": null,
   "metadata": {},
   "outputs": [],
   "source": [
    "target_scheme = Scheme(\n",
    "    model=\"models/globalWLstep1b_PSI_CF9212_streak_global_dispWLsimple.yml\",  \n",
    "    parameters=\"models/globalWLstep1b_PSI_CF9212_streak_global_dispWLsimple.csv\",\n",
    "    maximum_number_function_evaluations=7,\n",
    "    clp_link_tolerance=0.1,\n",
    "    data={\n",
    "        \"CF9212WLtr1\": CF9212DATA_PATH2,\n",
    "        \"CF9212WLtr2\": CF9212DATA_PATH4,\n",
    "        \"CF9212WLtr4\": CF9212DATA_PATH6,\n",
    "    },  \n",
    ")\n",
    "target_scheme.validate()\n"
   ]
  },
  {
   "cell_type": "code",
   "execution_count": null,
   "metadata": {},
   "outputs": [],
   "source": [
    "# warning: this can take a minute or two, even on a fast machine\n",
    "target_result1 = optimize(target_scheme, raise_exception=True)\n"
   ]
  },
  {
   "cell_type": "markdown",
   "metadata": {},
   "source": [
    "For reference, the final Cost should be\n",
    "- 7         2.0822e+02\n"
   ]
  },
  {
   "cell_type": "code",
   "execution_count": null,
   "metadata": {},
   "outputs": [],
   "source": [
    "target_result1\n"
   ]
  },
  {
   "cell_type": "code",
   "execution_count": null,
   "metadata": {},
   "outputs": [],
   "source": [
    "import matplotlib.pyplot as plt\n",
    "from cycler import cycler\n",
    "from pyglotaran_extras.plotting.plot_residual import plot_residual\n",
    "from pyglotaran_extras.plotting.plot_svd import plot_lsv_residual\n",
    "from pyglotaran_extras.plotting.plot_svd import plot_rsv_residual\n",
    "from pyglotaran_extras.plotting.style import ColorCode as cc\n",
    "\n",
    "\n",
    "\n",
    "def plot_svd_of_residual(result_dataset,result_dataset2,result_dataset3,linlog,linthresh,loc1,loc2,loc3,colors=[\"tab:grey\",\"tab:orange\",cc.cyan]):\n",
    "    fig, axes = plt.subplots(1, 2, figsize=(10, 2))\n",
    "    custom_cycler = cycler(color=[colors[0]])\n",
    "    plot_lsv_residual(result_dataset, axes[0], indices=[0],linlog=linlog,linthresh=linthresh, cycler=custom_cycler,irf_location=loc1)\n",
    "    custom_cycler = cycler(color=[colors[1]])\n",
    "    plot_lsv_residual(result_dataset2, axes[0], indices=[0],linlog=linlog,linthresh=linthresh, cycler=custom_cycler,irf_location=loc2)\n",
    "    custom_cycler = cycler(color=[colors[2]])\n",
    "    plot_lsv_residual(result_dataset3, axes[0], indices=[0],linlog=linlog,linthresh=linthresh, cycler=custom_cycler,irf_location=loc3)\n",
    "    axes[0].set_xlabel(\"Time (ps)\")\n",
    "    axes[0].get_legend().remove()\n",
    "    axes[0].set_ylabel(\"\")\n",
    "    axes[0].set_title(\"residual 1st LSV\")\n",
    "    custom_cycler = cycler(color=[colors[0]])\n",
    "    plot_rsv_residual(result_dataset, axes[1], indices=[0], cycler=custom_cycler)\n",
    "    custom_cycler = cycler(color=[colors[1]])\n",
    "    plot_rsv_residual(result_dataset2, axes[1], indices=[0], cycler=custom_cycler)\n",
    "    custom_cycler = cycler(color=[colors[2]])\n",
    "    plot_rsv_residual(result_dataset3, axes[1], indices=[0], cycler=custom_cycler)\n",
    "    axes[1].set_xlabel(\"Wavelength (nm)\")\n",
    "    axes[1].set_title(\"residual 1st RSV\")\n",
    "    axes[1].get_legend().remove()\n",
    "    axes[1].set_ylabel(\"\")\n",
    "\n",
    "    return fig, axes\n",
    "\n",
    "fig, axes = plot_svd_of_residual(target_result1.data[\"CF9212WLtr1\"],target_result1.data[\"CF9212WLtr2\"],target_result1.data[\"CF9212WLtr4\"],linlog=True,linthresh=100,loc1=57,loc2=57,loc3=214)\n",
    "axes[0].annotate(\"A\", xy=(-0.1, 1), xycoords=\"axes fraction\", fontsize=16)\n",
    "axes[1].annotate(\"B\", xy=(-0.1, 1), xycoords=\"axes fraction\", fontsize=16)\n"
   ]
  },
  {
   "cell_type": "markdown",
   "metadata": {},
   "source": [
    "The residuals are highly structured, especially around the location of the maximum of the IRF. Therefore we change the IRF shape to a double Gaussian."
   ]
  },
  {
   "cell_type": "code",
   "execution_count": null,
   "metadata": {},
   "outputs": [],
   "source": [
    "target_result1.root_mean_square_error\n"
   ]
  },
  {
   "cell_type": "markdown",
   "metadata": {},
   "source": [
    "## Step 1c Create scheme with double Gaussian IRF and optimize it"
   ]
  },
  {
   "cell_type": "code",
   "execution_count": null,
   "metadata": {},
   "outputs": [],
   "source": [
    "target_scheme = Scheme(\n",
    "    model=\"models/globalWLstep1c_PSI_CF9212_streak_global_dispWLdouble.yml\",  \n",
    "    parameters=\"models/globalWLstep1c_PSI_CF9212_streak_global_dispWLdouble.csv\",\n",
    "    maximum_number_function_evaluations=7,\n",
    "    clp_link_tolerance=0.1,\n",
    "    data={\n",
    "        \"CF9212WLtr1\": CF9212DATA_PATH2,\n",
    "        \"CF9212WLtr2\": CF9212DATA_PATH4,\n",
    "        \"CF9212WLtr4\": CF9212DATA_PATH6,\n",
    "    },  \n",
    ")\n",
    "target_scheme.validate()\n"
   ]
  },
  {
   "cell_type": "code",
   "execution_count": null,
   "metadata": {},
   "outputs": [],
   "source": [
    "# warning: this can take a minute or two, even on a fast machine\n",
    "target_result2 = optimize(target_scheme, raise_exception=True)\n"
   ]
  },
  {
   "cell_type": "markdown",
   "metadata": {},
   "source": [
    "For reference, the final Cost should be\n",
    "- 7         1.7473e+02\n"
   ]
  },
  {
   "cell_type": "code",
   "execution_count": null,
   "metadata": {},
   "outputs": [],
   "source": [
    "target_result2\n"
   ]
  },
  {
   "cell_type": "code",
   "execution_count": null,
   "metadata": {},
   "outputs": [],
   "source": [
    "fig, axes = plot_svd_of_residual(target_result2.data[\"CF9212WLtr1\"],target_result2.data[\"CF9212WLtr2\"],target_result2.data[\"CF9212WLtr4\"],linlog=True,linthresh=100,loc1=57,loc2=57,loc3=214)\n",
    "axes[0].annotate(\"A\", xy=(-0.1, 1), xycoords=\"axes fraction\", fontsize=16)\n",
    "axes[1].annotate(\"B\", xy=(-0.1, 1), xycoords=\"axes fraction\", fontsize=16)\n"
   ]
  },
  {
   "cell_type": "markdown",
   "metadata": {},
   "source": [
    "The residuals are still structured, therefore we know introduce an independent free Chla fraction for each time range."
   ]
  },
  {
   "cell_type": "code",
   "execution_count": null,
   "metadata": {},
   "outputs": [],
   "source": [
    "target_result2.root_mean_square_error\n"
   ]
  },
  {
   "cell_type": "markdown",
   "metadata": {},
   "source": [
    "## Step 1d Create scheme with free Chl a fraction per experiment"
   ]
  },
  {
   "cell_type": "code",
   "execution_count": null,
   "metadata": {},
   "outputs": [],
   "source": [
    "target_scheme = Scheme(\n",
    "    model=\"models/globalWLstep1d_PSI_CF9212_streak_global_dispWLfree.yml\",  \n",
    "    parameters=\"models/globalWLstep1d_PSI_CF9212_streak_global_dispWLfree.csv\",\n",
    "    maximum_number_function_evaluations=7,\n",
    "    clp_link_tolerance=0.1,\n",
    "    data={\n",
    "        \"CF9212WLtr1\": CF9212DATA_PATH2,\n",
    "        \"CF9212WLtr2\": CF9212DATA_PATH4,\n",
    "        \"CF9212WLtr4\": CF9212DATA_PATH6,\n",
    "    },  \n",
    ")\n",
    "target_scheme.validate()\n"
   ]
  },
  {
   "cell_type": "code",
   "execution_count": null,
   "metadata": {},
   "outputs": [],
   "source": [
    "# warning: this can take a minute or two, even on a fast machine\n",
    "target_result3 = optimize(target_scheme, raise_exception=True)\n"
   ]
  },
  {
   "cell_type": "markdown",
   "metadata": {},
   "source": [
    "For reference, the final Cost should be\n",
    "- 7         1.4290e+02 \n"
   ]
  },
  {
   "cell_type": "code",
   "execution_count": null,
   "metadata": {},
   "outputs": [],
   "source": [
    "target_result3\n"
   ]
  },
  {
   "cell_type": "code",
   "execution_count": null,
   "metadata": {},
   "outputs": [],
   "source": [
    "fig, axes = plot_svd_of_residual(target_result3.data[\"CF9212WLtr1\"],target_result3.data[\"CF9212WLtr2\"],target_result3.data[\"CF9212WLtr4\"],linlog=True,linthresh=100,loc1=57,loc2=57,loc3=214)\n",
    "axes[0].annotate(\"A\", xy=(-0.1, 1), xycoords=\"axes fraction\", fontsize=16)\n",
    "axes[1].annotate(\"B\", xy=(-0.1, 1), xycoords=\"axes fraction\", fontsize=16)\n"
   ]
  },
  {
   "cell_type": "code",
   "execution_count": null,
   "metadata": {},
   "outputs": [],
   "source": [
    "target_result3.root_mean_square_error\n"
   ]
  },
  {
   "cell_type": "markdown",
   "metadata": {},
   "source": [
    "### Plot result for interpretation\n"
   ]
  },
  {
   "cell_type": "code",
   "execution_count": null,
   "metadata": {},
   "outputs": [],
   "source": [
    "import matplotlib.pyplot as plt\n",
    "from cycler import cycler\n",
    "from pyglotaran_extras.plotting.plot_concentrations import plot_concentrations\n",
    "from pyglotaran_extras.plotting.plot_spectra import plot_sas\n",
    "from pyglotaran_extras.plotting.plot_spectra import plot_das\n",
    "from pyglotaran_extras.plotting.style import ColorCode\n",
    "# ColorCode.green,\"k\",\n",
    "myFRLcolors = [ \"k\",\"r\",\"b\",ColorCode.green,\"tab:orange\",   \"tab:grey\",ColorCode.cyan,  \"w\"]\n",
    "# myFRLcolors2 = [ \"g\",\"tab:orange\",  \"r\", \"k\",ColorCode.magenta,ColorCode.purple, \"w\", \"w\",\"w\",\"w\",\"y\",ColorCode.maroon]\n",
    "myFRLcolors2 = [ \"g\",\"tab:orange\",  \"r\", \"k\",ColorCode.magenta,ColorCode.indigo, ColorCode.brown, \"w\",\"w\",\"w\",\"y\",ColorCode.maroon]\n",
    "\n",
    "fig, axes = plt.subplots(1, 3, figsize=(15, 4))\n",
    "# custom_cycler = cycler(color=myFRLcolors, linestyle=[\"--\"] * 7)\n",
    "custom_cycler = cycler(color=myFRLcolors)\n",
    "plot_concentrations(target_result3.data[\"CF9212WLtr1\"], axes[0], center_λ=0, linlog=True, linthresh=100, cycler=custom_cycler)\n",
    "plot_concentrations(target_result3.data[\"CF9212WLtr2\"], axes[0], center_λ=0, linlog=True, linthresh=100, cycler=custom_cycler)\n",
    "# custom_cycler2 = cycler(color=myFRLcolors2)\n",
    "# plot_concentrations(target_result3.data[\"CF9212FRLtr2\"], axes[0], center_λ=0, linlog=True, linthresh=100, cycler=custom_cycler2)\n",
    "# plot_concentrations(target_result3.data[\"CF9212FRLtr4\"], axes[0], center_λ=0, linlog=True, linthresh=100, cycler=custom_cycler2)\n",
    "# plot_sas(target_result3.data[\"CF9212FRLtr4\"], axes[1], cycler=custom_cycler2)\n",
    "plot_sas(target_result3.data[\"CF9212WLtr4\"], axes[1], cycler=custom_cycler)\n",
    "plot_das(target_result3.data[\"CF9212WLtr4\"], axes[2], cycler=custom_cycler)\n",
    "axes[0].set_xlabel(\"Time (ps)\")\n",
    "axes[0].set_ylabel(\"\")\n",
    "axes[0].axhline(0, color=\"k\", linewidth=1)\n",
    "axes[1].set_xlabel(\"Wavelength (nm)\")\n",
    "axes[2].set_xlabel(\"Wavelength (nm)\")\n",
    "axes[1].set_ylabel(\"\")\n",
    "axes[2].set_ylabel(\"\")\n",
    "axes[1].set_title(\"EAS/SAS\")\n",
    "axes[1].axhline(0, color=\"k\", linewidth=1)\n",
    "axes[0].annotate(\"A\", xy=(-0.05, 1.02), xycoords=\"axes fraction\", fontsize=16)\n",
    "axes[1].annotate(\"B\", xy=(-0.05, 1.02), xycoords=\"axes fraction\", fontsize=16)\n",
    "axes[2].annotate(\"C\", xy=(-0.05, 1.02), xycoords=\"axes fraction\", fontsize=16)\n"
   ]
  },
  {
   "cell_type": "code",
   "execution_count": null,
   "metadata": {},
   "outputs": [],
   "source": [
    "show_a_matrixes(target_result3)\n"
   ]
  },
  {
   "cell_type": "code",
   "execution_count": null,
   "metadata": {},
   "outputs": [],
   "source": [
    "target_result3.optimized_parameters\n"
   ]
  },
  {
   "cell_type": "markdown",
   "metadata": {},
   "source": [
    "## Step 1e Add slowly transferring Chl a fraction per experiment\n",
    "As a further refinement one can resolve a fraction of slowly transferring, i.e. more loosely connected, Chl a"
   ]
  },
  {
   "cell_type": "code",
   "execution_count": null,
   "metadata": {},
   "outputs": [],
   "source": [
    "target_scheme = Scheme(\n",
    "    model=\"models/globalWLstep1e_PSI_CF9212_streak_global_dispWLslow.yml\",  \n",
    "    parameters=\"models/globalWLstep1e_PSI_CF9212_streak_global_dispWLslow.csv\",\n",
    "    maximum_number_function_evaluations=7,\n",
    "    clp_link_tolerance=0.1,\n",
    "    data={\n",
    "        \"CF9212WLtr1\": CF9212DATA_PATH2,\n",
    "        \"CF9212WLtr2\": CF9212DATA_PATH4,\n",
    "        \"CF9212WLtr4\": CF9212DATA_PATH6,\n",
    "    },  \n",
    ")\n",
    "target_scheme.validate()\n"
   ]
  },
  {
   "cell_type": "code",
   "execution_count": null,
   "metadata": {},
   "outputs": [],
   "source": [
    "# warning: this can take a minute or two, even on a fast machine\n",
    "target_result3 = optimize(target_scheme, raise_exception=True)\n"
   ]
  },
  {
   "cell_type": "markdown",
   "metadata": {},
   "source": [
    "For reference, the final Cost should be\n",
    "-  7         1.3784e+02 \n"
   ]
  },
  {
   "cell_type": "code",
   "execution_count": null,
   "metadata": {},
   "outputs": [],
   "source": [
    "target_result3\n"
   ]
  },
  {
   "cell_type": "code",
   "execution_count": null,
   "metadata": {},
   "outputs": [],
   "source": [
    "fig, axes = plot_svd_of_residual(target_result3.data[\"CF9212WLtr1\"],target_result3.data[\"CF9212WLtr2\"],target_result3.data[\"CF9212WLtr4\"],linlog=True,linthresh=100,loc1=57,loc2=57,loc3=214)\n",
    "axes[0].annotate(\"A\", xy=(-0.1, 1), xycoords=\"axes fraction\", fontsize=16)\n",
    "axes[1].annotate(\"B\", xy=(-0.1, 1), xycoords=\"axes fraction\", fontsize=16)\n"
   ]
  },
  {
   "cell_type": "code",
   "execution_count": null,
   "metadata": {},
   "outputs": [],
   "source": [
    "target_result3.root_mean_square_error\n"
   ]
  },
  {
   "cell_type": "markdown",
   "metadata": {},
   "source": [
    "### Plot result for interpretation\n"
   ]
  },
  {
   "cell_type": "code",
   "execution_count": null,
   "metadata": {},
   "outputs": [],
   "source": [
    "import matplotlib.pyplot as plt\n",
    "from cycler import cycler\n",
    "from pyglotaran_extras.plotting.plot_concentrations import plot_concentrations\n",
    "from pyglotaran_extras.plotting.plot_spectra import plot_sas\n",
    "from pyglotaran_extras.plotting.plot_spectra import plot_das\n",
    "from pyglotaran_extras.plotting.style import ColorCode\n",
    "# ColorCode.green,\"k\",\n",
    "myFRLcolors = [ \"k\",\"r\",\"b\",ColorCode.green,\"tab:orange\",   \"tab:grey\",ColorCode.cyan,  \"w\"]\n",
    "# myFRLcolors2 = [ \"g\",\"tab:orange\",  \"r\", \"k\",ColorCode.magenta,ColorCode.purple, \"w\", \"w\",\"w\",\"w\",\"y\",ColorCode.maroon]\n",
    "myFRLcolors2 = [ \"g\",\"tab:orange\",  \"r\", \"k\",ColorCode.magenta,ColorCode.indigo, ColorCode.brown, \"w\",\"w\",\"w\",\"y\",ColorCode.maroon]\n",
    "\n",
    "fig, axes = plt.subplots(1, 3, figsize=(15, 4))\n",
    "# custom_cycler = cycler(color=myFRLcolors, linestyle=[\"--\"] * 7)\n",
    "custom_cycler = cycler(color=myFRLcolors)\n",
    "plot_concentrations(target_result3.data[\"CF9212WLtr1\"], axes[0], center_λ=0, linlog=True, linthresh=100, cycler=custom_cycler)\n",
    "plot_concentrations(target_result3.data[\"CF9212WLtr2\"], axes[0], center_λ=0, linlog=True, linthresh=100, cycler=custom_cycler)\n",
    "# custom_cycler2 = cycler(color=myFRLcolors2)\n",
    "# plot_concentrations(target_result3.data[\"CF9212FRLtr2\"], axes[0], center_λ=0, linlog=True, linthresh=100, cycler=custom_cycler2)\n",
    "# plot_concentrations(target_result3.data[\"CF9212FRLtr4\"], axes[0], center_λ=0, linlog=True, linthresh=100, cycler=custom_cycler2)\n",
    "# plot_sas(target_result3.data[\"CF9212FRLtr4\"], axes[1], cycler=custom_cycler2)\n",
    "plot_sas(target_result3.data[\"CF9212WLtr4\"], axes[1], cycler=custom_cycler)\n",
    "plot_das(target_result3.data[\"CF9212WLtr4\"], axes[2], cycler=custom_cycler)\n",
    "axes[0].set_xlabel(\"Time (ps)\")\n",
    "axes[0].set_ylabel(\"\")\n",
    "axes[0].axhline(0, color=\"k\", linewidth=1)\n",
    "axes[1].set_xlabel(\"Wavelength (nm)\")\n",
    "axes[2].set_xlabel(\"Wavelength (nm)\")\n",
    "axes[1].set_ylabel(\"\")\n",
    "axes[2].set_ylabel(\"\")\n",
    "axes[1].set_title(\"EAS/SAS\")\n",
    "axes[1].axhline(0, color=\"k\", linewidth=1)\n",
    "axes[0].annotate(\"A\", xy=(-0.05, 1.02), xycoords=\"axes fraction\", fontsize=16)\n",
    "axes[1].annotate(\"B\", xy=(-0.05, 1.02), xycoords=\"axes fraction\", fontsize=16)\n",
    "axes[2].annotate(\"C\", xy=(-0.05, 1.02), xycoords=\"axes fraction\", fontsize=16)\n"
   ]
  },
  {
   "cell_type": "code",
   "execution_count": null,
   "metadata": {},
   "outputs": [],
   "source": [
    "show_a_matrixes(target_result3)\n"
   ]
  },
  {
   "cell_type": "code",
   "execution_count": null,
   "metadata": {},
   "outputs": [],
   "source": [
    "target_result3.optimized_parameters\n"
   ]
  },
  {
   "cell_type": "markdown",
   "metadata": {},
   "source": [
    "### Compute the FWHM of the main Gaussian of the IRF"
   ]
  },
  {
   "cell_type": "code",
   "execution_count": null,
   "metadata": {},
   "outputs": [],
   "source": [
    "import numpy as np\n",
    "const=2*np.sqrt(2*np.log(2))\n",
    "[const*target_result3.optimized_parameters.get(\"CF9212irfWLtr1.width1\").value,\n",
    "const*target_result3.optimized_parameters.get(\"CF9212irfWLtr2.width1\").value,\n",
    "const*target_result3.optimized_parameters.get(\"CF9212irfWLtr4.width1\").value]\n"
   ]
  },
  {
   "cell_type": "markdown",
   "metadata": {},
   "source": [
    "### Fit quality of the global analysis of the WL data\n",
    "overlays of traces and fits of 6 selected wavelengths"
   ]
  },
  {
   "cell_type": "code",
   "execution_count": null,
   "metadata": {},
   "outputs": [],
   "source": [
    "CF9212target_result_streak = (\n",
    "    # target_result.data[\"CF9212FRLtr1\"],\n",
    "    target_result3.data[\"CF9212WLtr1\"],\n",
    "    # target_result.data[\"CF9212FRLtr2\"],\n",
    "    target_result3.data[\"CF9212WLtr2\"],\n",
    "    # target_result.data[\"CF9212FRLtr4\"],\n",
    "    target_result3.data[\"CF9212WLtr4\"],\n",
    ")\n"
   ]
  },
  {
   "cell_type": "code",
   "execution_count": null,
   "metadata": {},
   "outputs": [],
   "source": [
    "import numpy as np\n",
    "# wavelengths = select_plot_wavelengths(\n",
    "#     CF9212target_result_streak, equidistant_wavelengths=True\n",
    "# )\n",
    "wavelengths =np.linspace(665, 795, num=16)\n",
    "plot_fitted_traces(CF9212target_result_streak, wavelengths, linlog=True, linthresh=100);\n"
   ]
  },
  {
   "cell_type": "code",
   "execution_count": null,
   "metadata": {},
   "outputs": [],
   "source": [
    "import warnings\n",
    "from pyglotaran_extras.plotting.style import ColorCode as cc\n",
    "\n",
    "with warnings.catch_warnings():\n",
    "    warnings.simplefilter(\"ignore\")\n",
    "    fig, ax_ = plot_fitted_traces(\n",
    "        CF9212target_result_streak,\n",
    "        [685,705,715,740,750,795],\n",
    "        linlog=True,\n",
    "        linthresh=10,\n",
    "        axes_shape=(3, 2),\n",
    "        figsize=(8,6),\n",
    "        title=\"\",\n",
    "        per_axis_legend=True,\n",
    "        cycler=cycler(\n",
    "            color=[\n",
    "                cc.grey,\n",
    "                cc.black,\n",
    "                cc.orange,\n",
    "                cc.red,\n",
    "                cc.cyan,\n",
    "                cc.blue,\n",
    "            ]\n",
    "        ),\n",
    "    )\n",
    "    handles, labels = ax_.flatten()[0].get_legend_handles_labels()\n",
    "    for i in range(len(handles)):\n",
    "        if i == 1:\n",
    "            labels[i] = \"TR1\"\n",
    "        elif i == 3:\n",
    "            labels[i] = \"TR2\"\n",
    "        elif i == 5:\n",
    "            labels[i] = \"TR4\"\n",
    "        else:\n",
    "            labels[i] = \"_Hidden\"\n",
    "    for idx, ax in enumerate(ax_.flatten()):\n",
    "        ax.set_ylabel(ax.title.get_text().replace(\"spectral = \", \"\"))\n",
    "        if idx > 1:\n",
    "            ax.set_xlabel(\"Time (ps)\")\n",
    "        else:\n",
    "            ax.set_xlabel(\"\")\n",
    "        ax.set_title(\"\")\n",
    "        if ax.get_legend() is not None:\n",
    "            ax.get_legend().remove()\n",
    "        for line in ax.lines:\n",
    "            # line.set_linewidth(0.5)  # Set the line width here\n",
    "            line.set_linewidth(1)  # Set the line width here\n",
    "    fig.legend(\n",
    "        handles,\n",
    "        labels,\n",
    "        bbox_to_anchor=(0.5, -0.05),\n",
    "        loc=\"lower center\",\n",
    "        ncol=len(handles),\n",
    "    )\n",
    "    fig.tight_layout()\n"
   ]
  },
  {
   "cell_type": "code",
   "execution_count": null,
   "metadata": {},
   "outputs": [],
   "source": [
    "import warnings\n",
    "from pyglotaran_extras.plotting.style import ColorCode as cc\n",
    "\n",
    "with warnings.catch_warnings():\n",
    "    warnings.simplefilter(\"ignore\")\n",
    "    fig, ax_ = plot_fitted_traces(\n",
    "        CF9212target_result_streak,\n",
    "        [685,705,715,740],\n",
    "        linlog=True,\n",
    "        linthresh=10,\n",
    "        axes_shape=(2, 2),\n",
    "        figsize=(8,4),\n",
    "        title=\"\",\n",
    "        per_axis_legend=True,\n",
    "        cycler=cycler(\n",
    "            color=[\n",
    "                cc.grey,\n",
    "                cc.black,\n",
    "                cc.orange,\n",
    "                cc.red,\n",
    "                cc.cyan,\n",
    "                cc.blue,\n",
    "            ]\n",
    "        ),\n",
    "    )\n",
    "    handles, labels = ax_.flatten()[0].get_legend_handles_labels()\n",
    "    for i in range(len(handles)):\n",
    "        if i == 1:\n",
    "            labels[i] = \"TR1\"\n",
    "        elif i == 3:\n",
    "            labels[i] = \"TR2\"\n",
    "        elif i == 5:\n",
    "            labels[i] = \"TR4\"\n",
    "        else:\n",
    "            labels[i] = \"_Hidden\"\n",
    "    for idx, ax in enumerate(ax_.flatten()):\n",
    "        ax.set_ylabel(ax.title.get_text().replace(\"spectral = \", \"\"))\n",
    "        if idx > 1:\n",
    "            ax.set_xlabel(\"Time (ps)\")\n",
    "        else:\n",
    "            ax.set_xlabel(\"\")\n",
    "        ax.set_title(\"\")\n",
    "        if ax.get_legend() is not None:\n",
    "            ax.get_legend().remove()\n",
    "        for line in ax.lines:\n",
    "            # line.set_linewidth(0.5)  # Set the line width here\n",
    "            line.set_linewidth(1)  # Set the line width here\n",
    "    fig.legend(\n",
    "        handles,\n",
    "        labels,\n",
    "        bbox_to_anchor=(0.5, -0.05),\n",
    "        loc=\"lower center\",\n",
    "        ncol=len(handles),\n",
    "    )\n",
    "    fig.tight_layout()\n"
   ]
  },
  {
   "cell_type": "markdown",
   "metadata": {},
   "source": [
    "## Step 2 Create target scheme of WL-PSI with a priori knowledge\n",
    "In the target analysis of WL-PSI we use a kinetic scheme (see Figure 10A in the paper) that is based upon the a priori knowledge from the transient absorption experiments about the mechanism of charge separation in WL-PSI. The SAS of the RC is shifted to longer wavelengths relative to the Bulk Chl a SAS. To estimate the RC SAS we will use a guidance SAS. "
   ]
  },
  {
   "cell_type": "code",
   "execution_count": 2,
   "metadata": {},
   "outputs": [
    {
     "data": {
      "text/markdown": [
       "```yaml\n",
       "default_megacomplex: decay\n",
       "dataset_groups:\n",
       "  streak:\n",
       "    residual_function: non_negative_least_squares\n",
       "    link_clp: True\n",
       "  default:\n",
       "    residual_function: variable_projection\n",
       "    link_clp: True\n",
       "\n",
       "dataset:\n",
       "  CF9212WLtr1:\n",
       "    group: streak\n",
       "    megacomplex: [CF9212complexWL,CF9212freeChla]\n",
       "    megacomplex_scale: [CF9212scalem.1,CF9212scalem.WLtr1a]\n",
       "    initial_concentration: CF9212inputWL\n",
       "    irf: CF9212irfWLtr1\n",
       "    scale: CF9212scale.WLtr1\n",
       "  CF9212WLtr2:\n",
       "    group: streak\n",
       "    megacomplex: [CF9212complexWL,CF9212freeChla]\n",
       "    megacomplex_scale: [CF9212scalem.1,CF9212scalem.WLtr2a]\n",
       "    initial_concentration: CF9212inputWL\n",
       "    irf: CF9212irfWLtr2\n",
       "    scale: CF9212scale.WLtr2\n",
       "  CF9212WLtr4:\n",
       "    group: streak\n",
       "    megacomplex: [CF9212complexWL,CF9212freeChla]\n",
       "    megacomplex_scale: [CF9212scalem.1,CF9212scalem.WLtr4a]\n",
       "    initial_concentration: CF9212inputWL\n",
       "    irf: CF9212irfWLtr4\n",
       "    scale: CF9212scale.WLtr4\n",
       "  WLRCSAS:\n",
       "    group: streak\n",
       "    megacomplex:\n",
       "    - smc4\n",
       "    scale: scale.WLRCSAS\n",
       "\n",
       "\n",
       "\n",
       "megacomplex:\n",
       "  CF9212freeChla:\n",
       "    k_matrix: [CF9212kmChla]\n",
       "  CF9212complexWL:\n",
       "    # k_matrix: [CF9212skmBulkWL,CF9212skmWLRC,CF9212skmWLRCtrap]\n",
       "    k_matrix: [CF9212skmBulkWL]\n",
       "  smc4:\n",
       "    dimension: time\n",
       "    target: CF9212WLRC\n",
       "    type: clp-guide\n",
       "# note that earlier definition will override later definition\n",
       "# xrates correction for different numbers of Bulk Chl a pigments in WL vs FRL (78 vs 70)\n",
       "k_matrix:\n",
       "  CF9212skmBulkWL:\n",
       "    matrix:\n",
       "      (CF9212Bulk, CF9212Red1): CF9212rates.ToBulkFromRed1\n",
       "      (CF9212Red1, CF9212Bulk): CF9212rates.ToRed1FromBulk\n",
       "      (CF9212Bulk, CF9212Red2): CF9212rates.ToBulkFromRed2\n",
       "      (CF9212Red2, CF9212Bulk): CF9212rates.ToRed2FromBulk\n",
       "      (CF9212Red1, CF9212Red1): CF9212rates.kF\n",
       "      (CF9212Red2, CF9212Red2): CF9212rates.kF\n",
       "  # CF9212skmWLRC:\n",
       "  #   matrix:\n",
       "      (CF9212WLRC, CF9212WLRP1): CF9212rates.ToWLRCFromWLRP1\n",
       "      (CF9212WLRP1, CF9212WLRC): CF9212rates.ToWLRP1FromWLRC\n",
       "      (CF9212Bulk, CF9212WLRC): CF9212rates.ToBulkFromWLRC\n",
       "      (CF9212WLRC, CF9212Bulk): CF9212rates.ToWLRCFromBulk\n",
       "  # CF9212skmWLRCtrap:\n",
       "  #   matrix:\n",
       "      (CF9212WLRP1, CF9212WLRP1): CF9212rates.WLRP1\n",
       "      (CF9212Bulk, CF9212Bulk): CF9212rates.kF\n",
       "  CF9212kmChla:\n",
       "    matrix:\n",
       "      (CF9212freeChla, CF9212freeChla): CF9212rates.kF\n",
       "\n",
       "initial_concentration:\n",
       "  CF9212inputWL:\n",
       "    compartments: [CF9212Bulk,CF9212Red1,CF9212Red2,CF9212WLRC,CF9212freeChla,CF9212WLRP1]\n",
       "    parameters: [input.Bulk,input.Red1, input.Red2, input.RC,input.1,input.0]\n",
       "    exclude_from_normalize: [CF9212freeChla]\n",
       "\n",
       "clp_penalties:\n",
       "  - type: equal_area\n",
       "    source: CF9212freeChla\n",
       "    source_intervals: [[0, 1000]]\n",
       "    target: CF9212Bulk\n",
       "    target_intervals: [[0, 1000]]\n",
       "    parameter: area.1\n",
       "    weight: 0.62e-2\n",
       "  - type: equal_area\n",
       "    source: CF9212Red2\n",
       "    source_intervals: [[0, 1000]]\n",
       "    target: CF9212Bulk\n",
       "    target_intervals: [[0, 1000]]\n",
       "    parameter: area.Bulk\n",
       "    weight: 0.62e-2\n",
       "  - type: equal_area\n",
       "    source: CF9212Red2\n",
       "    source_intervals: [[0, 1000]]\n",
       "    target: CF9212Red1\n",
       "    target_intervals: [[0, 1000]]\n",
       "    parameter: area.1\n",
       "    weight: 0.62e-2\n",
       "  - type: equal_area\n",
       "    source: CF9212Red2\n",
       "    source_intervals: [[0, 1000]]\n",
       "    target: CF9212WLRC\n",
       "    target_intervals: [[0, 1000]]\n",
       "    parameter: area.1\n",
       "    weight: 0.62e-2\n",
       "\n",
       "# clp_relations:\n",
       "#   - source: sWLRC\n",
       "#     target: CF9212WLRC\n",
       "#     parameter: rel.r1\n",
       "#     interval: [[0, 1000]]\n",
       "#   - source: sRed1\n",
       "#     target: CF9212Red1\n",
       "#     parameter: rel.r1\n",
       "#     interval: [[0, 1000]]\n",
       "#   - source: sRed2\n",
       "#     target: CF9212Red2\n",
       "#     parameter: rel.r1\n",
       "#     interval: [[0, 1000]]\n",
       "\n",
       "clp_constraints:\n",
       "  # - type: zero\n",
       "  #   target: CF9212Red2\n",
       "  #   interval:\n",
       "  #     - [100, 683]\n",
       "  - type: zero\n",
       "    target: CF9212WLRP1\n",
       "    interval:\n",
       "      - [100, 1000]\n",
       "      #\n",
       "\n",
       "# it is implicitly normalized, i.e. divided by sum of irfscale parameters\n",
       "irf:\n",
       "  CF9212irfWLtr1:\n",
       "    type: spectral-multi-gaussian\n",
       "    center: [CF9212irfWLtr1.center]\n",
       "    width: [CF9212irfWLtr1.width1,CF9212irfWLtr1.width2]\n",
       "    scale: [CF9212irfWLtr1.scale1,CF9212irfWLtr1.scale2]\n",
       "    backsweep: True\n",
       "    backsweep_period: irf.common_backsweep\n",
       "    dispersion_center: irf.dispcenter\n",
       "    center_dispersion_coefficients: [irf.disp1,irf.disp2]\n",
       "  CF9212irfWLtr2:\n",
       "    type: spectral-multi-gaussian\n",
       "    center: [CF9212irfWLtr2.center]\n",
       "    width: [CF9212irfWLtr2.width1,CF9212irfWLtr2.width2]\n",
       "    scale: [CF9212irfWLtr2.scale1,CF9212irfWLtr2.scale2]\n",
       "    backsweep: True\n",
       "    backsweep_period: irf.common_backsweep\n",
       "    dispersion_center: irf.dispcenter\n",
       "    center_dispersion_coefficients: [irf.disp1,irf.disp2]\n",
       "  CF9212irfWLtr4:\n",
       "    type: spectral-multi-gaussian\n",
       "    center: [CF9212irfWLtr4.center]\n",
       "    width: [CF9212irfWLtr4.width1,CF9212irfWLtr4.width2]\n",
       "    scale: [CF9212irfWLtr4.scale1,CF9212irfWLtr4.scale2]\n",
       "    backsweep: True\n",
       "    backsweep_period: irf.common_backsweep\n",
       "    dispersion_center: irf.dispcenter\n",
       "    center_dispersion_coefficients: [irf.disp1,irf.disp2]\n",
       "\n",
       "weights:\n",
       "  - datasets: [WLRCSAS]\n",
       "    global_interval: [100, 1000]\n",
       "    value: 0.1\n",
       "```"
      ],
      "text/plain": [
       "'default_megacomplex: decay\\ndataset_groups:\\n  streak:\\n    residual_function: non_negative_least_squares\\n    link_clp: True\\n  default:\\n    residual_function: variable_projection\\n    link_clp: True\\n\\ndataset:\\n  CF9212WLtr1:\\n    group: streak\\n    megacomplex: [CF9212complexWL,CF9212freeChla]\\n    megacomplex_scale: [CF9212scalem.1,CF9212scalem.WLtr1a]\\n    initial_concentration: CF9212inputWL\\n    irf: CF9212irfWLtr1\\n    scale: CF9212scale.WLtr1\\n  CF9212WLtr2:\\n    group: streak\\n    megacomplex: [CF9212complexWL,CF9212freeChla]\\n    megacomplex_scale: [CF9212scalem.1,CF9212scalem.WLtr2a]\\n    initial_concentration: CF9212inputWL\\n    irf: CF9212irfWLtr2\\n    scale: CF9212scale.WLtr2\\n  CF9212WLtr4:\\n    group: streak\\n    megacomplex: [CF9212complexWL,CF9212freeChla]\\n    megacomplex_scale: [CF9212scalem.1,CF9212scalem.WLtr4a]\\n    initial_concentration: CF9212inputWL\\n    irf: CF9212irfWLtr4\\n    scale: CF9212scale.WLtr4\\n  WLRCSAS:\\n    group: streak\\n    megacomplex:\\n    - smc4\\n    scale: scale.WLRCSAS\\n\\n\\n\\nmegacomplex:\\n  CF9212freeChla:\\n    k_matrix: [CF9212kmChla]\\n  CF9212complexWL:\\n    # k_matrix: [CF9212skmBulkWL,CF9212skmWLRC,CF9212skmWLRCtrap]\\n    k_matrix: [CF9212skmBulkWL]\\n  smc4:\\n    dimension: time\\n    target: CF9212WLRC\\n    type: clp-guide\\n# note that earlier definition will override later definition\\n# xrates correction for different numbers of Bulk Chl a pigments in WL vs FRL (78 vs 70)\\nk_matrix:\\n  CF9212skmBulkWL:\\n    matrix:\\n      (CF9212Bulk, CF9212Red1): CF9212rates.ToBulkFromRed1\\n      (CF9212Red1, CF9212Bulk): CF9212rates.ToRed1FromBulk\\n      (CF9212Bulk, CF9212Red2): CF9212rates.ToBulkFromRed2\\n      (CF9212Red2, CF9212Bulk): CF9212rates.ToRed2FromBulk\\n      (CF9212Red1, CF9212Red1): CF9212rates.kF\\n      (CF9212Red2, CF9212Red2): CF9212rates.kF\\n  # CF9212skmWLRC:\\n  #   matrix:\\n      (CF9212WLRC, CF9212WLRP1): CF9212rates.ToWLRCFromWLRP1\\n      (CF9212WLRP1, CF9212WLRC): CF9212rates.ToWLRP1FromWLRC\\n      (CF9212Bulk, CF9212WLRC): CF9212rates.ToBulkFromWLRC\\n      (CF9212WLRC, CF9212Bulk): CF9212rates.ToWLRCFromBulk\\n  # CF9212skmWLRCtrap:\\n  #   matrix:\\n      (CF9212WLRP1, CF9212WLRP1): CF9212rates.WLRP1\\n      (CF9212Bulk, CF9212Bulk): CF9212rates.kF\\n  CF9212kmChla:\\n    matrix:\\n      (CF9212freeChla, CF9212freeChla): CF9212rates.kF\\n\\ninitial_concentration:\\n  CF9212inputWL:\\n    compartments: [CF9212Bulk,CF9212Red1,CF9212Red2,CF9212WLRC,CF9212freeChla,CF9212WLRP1]\\n    parameters: [input.Bulk,input.Red1, input.Red2, input.RC,input.1,input.0]\\n    exclude_from_normalize: [CF9212freeChla]\\n\\nclp_penalties:\\n  - type: equal_area\\n    source: CF9212freeChla\\n    source_intervals: [[0, 1000]]\\n    target: CF9212Bulk\\n    target_intervals: [[0, 1000]]\\n    parameter: area.1\\n    weight: 0.62e-2\\n  - type: equal_area\\n    source: CF9212Red2\\n    source_intervals: [[0, 1000]]\\n    target: CF9212Bulk\\n    target_intervals: [[0, 1000]]\\n    parameter: area.Bulk\\n    weight: 0.62e-2\\n  - type: equal_area\\n    source: CF9212Red2\\n    source_intervals: [[0, 1000]]\\n    target: CF9212Red1\\n    target_intervals: [[0, 1000]]\\n    parameter: area.1\\n    weight: 0.62e-2\\n  - type: equal_area\\n    source: CF9212Red2\\n    source_intervals: [[0, 1000]]\\n    target: CF9212WLRC\\n    target_intervals: [[0, 1000]]\\n    parameter: area.1\\n    weight: 0.62e-2\\n\\n# clp_relations:\\n#   - source: sWLRC\\n#     target: CF9212WLRC\\n#     parameter: rel.r1\\n#     interval: [[0, 1000]]\\n#   - source: sRed1\\n#     target: CF9212Red1\\n#     parameter: rel.r1\\n#     interval: [[0, 1000]]\\n#   - source: sRed2\\n#     target: CF9212Red2\\n#     parameter: rel.r1\\n#     interval: [[0, 1000]]\\n\\nclp_constraints:\\n  # - type: zero\\n  #   target: CF9212Red2\\n  #   interval:\\n  #     - [100, 683]\\n  - type: zero\\n    target: CF9212WLRP1\\n    interval:\\n      - [100, 1000]\\n      #\\n\\n# it is implicitly normalized, i.e. divided by sum of irfscale parameters\\nirf:\\n  CF9212irfWLtr1:\\n    type: spectral-multi-gaussian\\n    center: [CF9212irfWLtr1.center]\\n    width: [CF9212irfWLtr1.width1,CF9212irfWLtr1.width2]\\n    scale: [CF9212irfWLtr1.scale1,CF9212irfWLtr1.scale2]\\n    backsweep: True\\n    backsweep_period: irf.common_backsweep\\n    dispersion_center: irf.dispcenter\\n    center_dispersion_coefficients: [irf.disp1,irf.disp2]\\n  CF9212irfWLtr2:\\n    type: spectral-multi-gaussian\\n    center: [CF9212irfWLtr2.center]\\n    width: [CF9212irfWLtr2.width1,CF9212irfWLtr2.width2]\\n    scale: [CF9212irfWLtr2.scale1,CF9212irfWLtr2.scale2]\\n    backsweep: True\\n    backsweep_period: irf.common_backsweep\\n    dispersion_center: irf.dispcenter\\n    center_dispersion_coefficients: [irf.disp1,irf.disp2]\\n  CF9212irfWLtr4:\\n    type: spectral-multi-gaussian\\n    center: [CF9212irfWLtr4.center]\\n    width: [CF9212irfWLtr4.width1,CF9212irfWLtr4.width2]\\n    scale: [CF9212irfWLtr4.scale1,CF9212irfWLtr4.scale2]\\n    backsweep: True\\n    backsweep_period: irf.common_backsweep\\n    dispersion_center: irf.dispcenter\\n    center_dispersion_coefficients: [irf.disp1,irf.disp2]\\n\\nweights:\\n  - datasets: [WLRCSAS]\\n    global_interval: [100, 1000]\\n    value: 0.1'"
      ]
     },
     "execution_count": 2,
     "metadata": {},
     "output_type": "execute_result"
    }
   ],
   "source": [
    "# Uncomment the following 3 lines to display the target model file in the notebook\n",
    "from glotaran.utils.ipython import display_file\n",
    "target_model_path = \"models/targetWLstep2_PSI_CF9212_streak_target_dispWL.yml\"\n",
    "display_file(target_model_path, syntax=\"yaml\")\n",
    "\n",
    "# Alternatively (recommended), open the file in a text editor to see the model definition"
   ]
  },
  {
   "cell_type": "code",
   "execution_count": null,
   "metadata": {},
   "outputs": [],
   "source": [
    "target_scheme = Scheme(\n",
    "    model=\"models/targetWLstep2_PSI_CF9212_streak_target_dispWL.yml\",  \n",
    "    parameters=\"models/targetWLstep2_PSI_CF9212_streak_target_dispWL.csv\",\n",
    "    maximum_number_function_evaluations=7,\n",
    "    clp_link_tolerance=0.1,\n",
    "    data={\n",
    "        \"CF9212WLtr1\": CF9212DATA_PATH2,\n",
    "        \"CF9212WLtr2\": CF9212DATA_PATH4,\n",
    "        \"CF9212WLtr4\": CF9212DATA_PATH6,\n",
    "        \"WLRCSAS\": \"data/PSI_7521FR_WLtr124av8nobridgetarget_dispcorri4WLRC.ascii\",\n",
    "    },  \n",
    ")\n",
    "target_scheme.validate()\n"
   ]
  },
  {
   "cell_type": "code",
   "execution_count": null,
   "metadata": {},
   "outputs": [],
   "source": [
    "# warning: this can take a minute or two, even on a fast machine\n",
    "target_result = optimize(target_scheme, raise_exception=True)\n"
   ]
  },
  {
   "cell_type": "markdown",
   "metadata": {},
   "source": [
    "For reference, the final Cost should be\n",
    "- 7         1.4475e+02\n"
   ]
  },
  {
   "cell_type": "code",
   "execution_count": null,
   "metadata": {},
   "outputs": [],
   "source": [
    "target_result\n"
   ]
  },
  {
   "cell_type": "code",
   "execution_count": null,
   "metadata": {},
   "outputs": [],
   "source": [
    "fig, axes = plot_svd_of_residual(target_result.data[\"CF9212WLtr1\"],target_result.data[\"CF9212WLtr2\"],target_result.data[\"CF9212WLtr4\"],linlog=True,linthresh=100,loc1=57,loc2=57,loc3=214)\n",
    "axes[0].annotate(\"A\", xy=(-0.1, 1), xycoords=\"axes fraction\", fontsize=16)\n",
    "axes[1].annotate(\"B\", xy=(-0.1, 1), xycoords=\"axes fraction\", fontsize=16)\n"
   ]
  },
  {
   "cell_type": "code",
   "execution_count": null,
   "metadata": {},
   "outputs": [],
   "source": [
    "target_result.root_mean_square_error\n"
   ]
  },
  {
   "cell_type": "markdown",
   "metadata": {},
   "source": [
    "### Plot result for interpretation\n"
   ]
  },
  {
   "cell_type": "code",
   "execution_count": null,
   "metadata": {},
   "outputs": [],
   "source": [
    "import matplotlib.pyplot as plt\n",
    "from cycler import cycler\n",
    "from pyglotaran_extras.plotting.plot_concentrations import plot_concentrations\n",
    "from pyglotaran_extras.plotting.plot_spectra import plot_sas\n",
    "from pyglotaran_extras.plotting.style import ColorCode\n",
    "# ColorCode.green,\"k\",\n",
    "myFRLcolors = [ \"g\",\"tab:orange\",  \"r\", \"tab:grey\",ColorCode.cyan, ColorCode.green, \"w\"]\n",
    "# myFRLcolors2 = [ \"g\",\"tab:orange\",  \"r\", \"k\",ColorCode.magenta,ColorCode.purple, \"w\", \"w\",\"w\",\"w\",\"y\",ColorCode.maroon]\n",
    "myFRLcolors2 = [ \"g\",\"tab:orange\",  \"r\", \"k\",ColorCode.magenta,ColorCode.indigo, ColorCode.brown, \"w\",\"w\",\"w\",\"y\",ColorCode.maroon]\n",
    "\n",
    "fig, axes = plt.subplots(1, 2, figsize=(15, 4))\n",
    "# custom_cycler = cycler(color=myFRLcolors, linestyle=[\"--\"] * 7)\n",
    "custom_cycler = cycler(color=myFRLcolors)\n",
    "# plot_concentrations(target_result.data[\"CF9212WLtr1\"], axes[0], center_λ=0, linlog=True, linthresh=100, cycler=custom_cycler)\n",
    "plot_concentrations(target_result.data[\"CF9212WLtr2\"], axes[0], center_λ=0, linlog=True, linthresh=100, cycler=custom_cycler)\n",
    "# custom_cycler2 = cycler(color=myFRLcolors2)\n",
    "# plot_concentrations(target_result.data[\"CF9212FRLtr2\"], axes[0], center_λ=0, linlog=True, linthresh=100, cycler=custom_cycler2)\n",
    "# plot_concentrations(target_result.data[\"CF9212FRLtr4\"], axes[0], center_λ=0, linlog=True, linthresh=100, cycler=custom_cycler2)\n",
    "# plot_sas(target_result.data[\"CF9212FRLtr4\"], axes[1], cycler=custom_cycler2)\n",
    "plot_sas(target_result.data[\"CF9212WLtr4\"], axes[1], cycler=custom_cycler)\n",
    "axes[0].set_xlabel(\"Time (ps)\")\n",
    "axes[0].set_ylabel(\"\")\n",
    "axes[0].axhline(0, color=\"k\", linewidth=1)\n",
    "axes[1].set_xlabel(\"Wavelength (nm)\")\n",
    "axes[1].set_ylabel(\"\")\n",
    "axes[1].set_title(\"SAS\")\n",
    "axes[1].axhline(0, color=\"k\", linewidth=1)\n",
    "axes[0].annotate(\"A\", xy=(-0.05, 1.02), xycoords=\"axes fraction\", fontsize=16)\n",
    "axes[1].annotate(\"B\", xy=(-0.05, 1.02), xycoords=\"axes fraction\", fontsize=16)\n"
   ]
  },
  {
   "cell_type": "code",
   "execution_count": null,
   "metadata": {},
   "outputs": [],
   "source": [
    "show_a_matrixes(target_result)\n"
   ]
  },
  {
   "cell_type": "markdown",
   "metadata": {},
   "source": [
    "To save the results of the optimization we can use the `save_result` command.\n",
    "\n",
    "Because it saves *everything* it consumes about 40MB of disk space per save."
   ]
  },
  {
   "cell_type": "code",
   "execution_count": null,
   "metadata": {},
   "outputs": [],
   "source": [
    "save_result(\n",
    "    result=target_result,\n",
    "    result_path=\"results/20230912targetWL_disp/result.yaml\",\n",
    "    allow_overwrite=True,\n",
    ")\n"
   ]
  },
  {
   "cell_type": "markdown",
   "metadata": {},
   "source": [
    "### Create the WL guidance data sets"
   ]
  },
  {
   "cell_type": "code",
   "execution_count": null,
   "metadata": {},
   "outputs": [],
   "source": [
    "from glotaran.io import save_dataset\n",
    "from glotaran.utils.io import create_clp_guide_dataset\n",
    "\n",
    "for species in target_result.data[\"CF9212WLtr2\"].species:\n",
    "    clp_guide = create_clp_guide_dataset(target_result.data[\"CF9212WLtr2\"], species.item())\n",
    "    string_in_string = \"guide/20230912PSI_CF9212_streak_targetWL_disp_{}.ascii\".format(species.item())\n",
    "    save_dataset(clp_guide.data, string_in_string,allow_overwrite=True)\n"
   ]
  },
  {
   "cell_type": "markdown",
   "metadata": {},
   "source": [
    "### Print the estimates of the optimized parameters and their precision \n",
    "The t-values of the **free** parameters (Vary=True) indicate the precision"
   ]
  },
  {
   "cell_type": "code",
   "execution_count": null,
   "metadata": {},
   "outputs": [],
   "source": [
    "target_result.optimized_parameters\n"
   ]
  },
  {
   "cell_type": "markdown",
   "metadata": {},
   "source": [
    "### K-matrix target"
   ]
  },
  {
   "cell_type": "code",
   "execution_count": null,
   "metadata": {},
   "outputs": [],
   "source": [
    "compartments = target_scheme.model.initial_concentration[\"CF9212inputWL\"].compartments\n",
    "\n",
    "target_scheme.model.k_matrix[\"CF9212skmBulkWL\"].matrix_as_markdown(compartments).replace(\"0.0000e+00\", \"\")\n"
   ]
  },
  {
   "cell_type": "markdown",
   "metadata": {},
   "source": [
    "#### Overview plots per dataset"
   ]
  },
  {
   "cell_type": "markdown",
   "metadata": {},
   "source": [
    "### WL data"
   ]
  },
  {
   "cell_type": "markdown",
   "metadata": {},
   "source": [
    "NB plot_overview with linlog=True is very slow, but it can be more informative because it zooms in on the early events"
   ]
  },
  {
   "cell_type": "code",
   "execution_count": null,
   "metadata": {},
   "outputs": [],
   "source": [
    "from cycler import cycler\n",
    "\n",
    "fig,axes=plot_overview(\n",
    "    target_result.data[\"CF9212WLtr1\"],\n",
    "    nr_of_data_svd_vectors=4,\n",
    "    nr_of_residual_svd_vectors=1,\n",
    "    # linlog=True,\n",
    "    linlog=False,\n",
    "    linthresh=100,\n",
    "    cycler=cycler(color=myFRLcolors),use_svd_number=True,das_cycler=PlotStyle().cycler,svd_cycler=PlotStyle().cycler,\n",
    ")\n"
   ]
  },
  {
   "cell_type": "code",
   "execution_count": null,
   "metadata": {},
   "outputs": [],
   "source": [
    "from cycler import cycler\n",
    "\n",
    "fig,axes=plot_overview(\n",
    "    target_result.data[\"CF9212WLtr2\"],\n",
    "    nr_of_data_svd_vectors=4,\n",
    "    nr_of_residual_svd_vectors=1,\n",
    "    # linlog=True,\n",
    "    linlog=False,\n",
    "    linthresh=100,\n",
    "    cycler=cycler(color=myFRLcolors),use_svd_number=True,das_cycler=PlotStyle().cycler,svd_cycler=PlotStyle().cycler,\n",
    ")\n"
   ]
  },
  {
   "cell_type": "code",
   "execution_count": null,
   "metadata": {},
   "outputs": [],
   "source": [
    "from cycler import cycler\n",
    "\n",
    "plot_overview(\n",
    "    target_result.data[\"CF9212WLtr4\"],\n",
    "    nr_of_data_svd_vectors=4,\n",
    "    nr_of_residual_svd_vectors=1,\n",
    "    linlog=False,\n",
    "    linthresh=100,\n",
    "    cycler=cycler(color=myFRLcolors),use_svd_number=True,das_cycler=PlotStyle().cycler,svd_cycler=PlotStyle().cycler,\n",
    ");\n"
   ]
  },
  {
   "cell_type": "markdown",
   "metadata": {},
   "source": [
    "### Fit quality of the target analysis of the WL data\n",
    "overlays of traces and fits, first of 16 wavelengths, then of 6 selected wavelengths"
   ]
  },
  {
   "cell_type": "code",
   "execution_count": null,
   "metadata": {},
   "outputs": [],
   "source": [
    "CF9212target_result_streak = (\n",
    "    # target_result.data[\"CF9212FRLtr1\"],\n",
    "    target_result.data[\"CF9212WLtr1\"],\n",
    "    # target_result.data[\"CF9212FRLtr2\"],\n",
    "    target_result.data[\"CF9212WLtr2\"],\n",
    "    # target_result.data[\"CF9212FRLtr4\"],\n",
    "    target_result.data[\"CF9212WLtr4\"],\n",
    ")\n"
   ]
  },
  {
   "cell_type": "code",
   "execution_count": null,
   "metadata": {},
   "outputs": [],
   "source": [
    "import numpy as np\n",
    "# wavelengths = select_plot_wavelengths(\n",
    "#     CF9212target_result_streak, equidistant_wavelengths=True\n",
    "# )\n",
    "wavelengths =np.linspace(665, 795, num=16)\n",
    "plot_fitted_traces(CF9212target_result_streak, wavelengths, linlog=True, linthresh=100);\n"
   ]
  },
  {
   "cell_type": "code",
   "execution_count": null,
   "metadata": {},
   "outputs": [],
   "source": [
    "import warnings\n",
    "from pyglotaran_extras.plotting.style import ColorCode as cc\n",
    "\n",
    "with warnings.catch_warnings():\n",
    "    warnings.simplefilter(\"ignore\")\n",
    "    fig, ax_ = plot_fitted_traces(\n",
    "        CF9212target_result_streak,\n",
    "        [685,705,715,740,750,795],\n",
    "        linlog=True,\n",
    "        linthresh=10,\n",
    "        axes_shape=(3, 2),\n",
    "        figsize=(8,6),\n",
    "        title=\"\",\n",
    "        per_axis_legend=True,\n",
    "        cycler=cycler(\n",
    "            color=[\n",
    "                cc.grey,\n",
    "                cc.black,\n",
    "                cc.orange,\n",
    "                cc.red,\n",
    "                cc.cyan,\n",
    "                cc.blue,\n",
    "            ]\n",
    "        ),\n",
    "    )\n",
    "    handles, labels = ax_.flatten()[0].get_legend_handles_labels()\n",
    "    for i in range(len(handles)):\n",
    "        if i == 1:\n",
    "            labels[i] = \"TR1\"\n",
    "        elif i == 3:\n",
    "            labels[i] = \"TR2\"\n",
    "        elif i == 5:\n",
    "            labels[i] = \"TR4\"\n",
    "        else:\n",
    "            labels[i] = \"_Hidden\"\n",
    "    for idx, ax in enumerate(ax_.flatten()):\n",
    "        ax.set_ylabel(ax.title.get_text().replace(\"spectral = \", \"\"))\n",
    "        if idx > 1:\n",
    "            ax.set_xlabel(\"Time (ps)\")\n",
    "        else:\n",
    "            ax.set_xlabel(\"\")\n",
    "        ax.set_title(\"\")\n",
    "        if ax.get_legend() is not None:\n",
    "            ax.get_legend().remove()\n",
    "        for line in ax.lines:\n",
    "            # line.set_linewidth(0.5)  # Set the line width here\n",
    "            line.set_linewidth(1)  # Set the line width here\n",
    "    fig.legend(\n",
    "        handles,\n",
    "        labels,\n",
    "        bbox_to_anchor=(0.5, -0.05),\n",
    "        loc=\"lower center\",\n",
    "        ncol=len(handles),\n",
    "    )\n",
    "    fig.tight_layout()\n"
   ]
  }
 ],
 "metadata": {
  "kernelspec": {
   "display_name": "Python 3 (ipykernel)",
   "language": "python",
   "name": "python3"
  },
  "language_info": {
   "codemirror_mode": {
    "name": "ipython",
    "version": 3
   },
   "file_extension": ".py",
   "mimetype": "text/x-python",
   "name": "python",
   "nbconvert_exporter": "python",
   "pygments_lexer": "ipython3",
   "version": "3.10.6"
  },
  "vscode": {
   "interpreter": {
    "hash": "c96939a00adbd8139175687d27213cba589faa8203f47f613c3350e59358e0cf"
   }
  }
 },
 "nbformat": 4,
 "nbformat_minor": 4
}
