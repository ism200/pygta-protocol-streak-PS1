{
 "cells": [
  {
   "cell_type": "markdown",
   "metadata": {},
   "source": [
    "# Simultaneous global and target analysis of the timeresolved fluorescence of WL-PSI of CF9212"
   ]
  },
  {
   "cell_type": "markdown",
   "metadata": {},
   "source": [
    "## Step 1a Defining datasets and inspect data"
   ]
  },
  {
   "cell_type": "code",
   "execution_count": null,
   "metadata": {},
   "outputs": [],
   "source": [
    "from __future__ import annotations\n",
    "\n",
    "from glotaran.io import load_parameters, save_result\n",
    "from glotaran.optimization.optimize import optimize\n",
    "from glotaran.project.scheme import Scheme\n",
    "from pyglotaran_extras.inspect import show_a_matrixes\n",
    "from pyglotaran_extras.plotting.style import PlotStyle\n",
    "from pyglotaran_extras import (\n",
    "    plot_overview,\n",
    "    plot_data_overview,\n",
    "    plot_fitted_traces,\n",
    "    select_plot_wavelengths,\n",
    ")"
   ]
  },
  {
   "cell_type": "markdown",
   "metadata": {},
   "source": [
    "The code below defined the (groups of) datasets used in the analysis. Only for a single dataset the plot_data_overview is shown to avoid repetition, it is left as an execirse to the reader to inspect the other data."
   ]
  },
  {
   "cell_type": "code",
   "execution_count": null,
   "metadata": {},
   "outputs": [],
   "source": [
    "# order FRLtr1, WLtr1, FRLtr2, WLtr2, FRLtr4\n",
    "CF9212DATA_PATH1 = \"data/PSI_9212FR_WLtr124av4nobridgetarget_nsuml2a.ascii\"\n",
    "CF9212DATA_PATH2 = \"data/PSI_9212FR_WLtr124av4nobridgetarget_nsuml2b.ascii\"\n",
    "CF9212DATA_PATH3 = \"data/PSI_9212FR_WLtr124av4nobridgetarget_nsuml2c.ascii\"\n",
    "CF9212DATA_PATH4 = \"data/PSI_9212FR_WLtr124av4nobridgetarget_nsuml2d.ascii\"\n",
    "CF9212DATA_PATH5 = \"data/PSI_9212FR_WLtr124av4nobridgetarget_nsuml2e.ascii\"\n",
    "CF9212DATA_PATH6 = \"data/PSI_9212FR_WLtr124av4nobridgetarget_nsuml2f.ascii\"\n",
    "\n",
    "# to plot uncomment the next lines with \"Ctrl /\"\n",
    "plot_data_overview(\n",
    "    CF9212DATA_PATH2,\n",
    "    nr_of_data_svd_vectors=4,\n",
    "    linlog=False,\n",
    "    linthresh=10,\n",
    "    irf_location=57,\n",
    "    title=\"WL-PSI Time Range 1\",\n",
    "    use_svd_number=True,\n",
    ")\n",
    "# plot_data_overview(CF9212DATA_PATH2, nr_of_data_svd_vectors=4, linlog=True, linthresh=30,irf_location=57);\n",
    "# etc"
   ]
  },
  {
   "cell_type": "code",
   "execution_count": null,
   "metadata": {},
   "outputs": [],
   "source": [
    "plot_data_overview(\n",
    "    CF9212DATA_PATH4,\n",
    "    nr_of_data_svd_vectors=4,\n",
    "    linlog=False,\n",
    "    linthresh=10,\n",
    "    irf_location=57,\n",
    "    title=\"WL-PSI Time Range 2\",\n",
    "    use_svd_number=True,\n",
    ")"
   ]
  },
  {
   "cell_type": "code",
   "execution_count": null,
   "metadata": {},
   "outputs": [],
   "source": [
    "plot_data_overview(\n",
    "    CF9212DATA_PATH6,\n",
    "    nr_of_data_svd_vectors=4,\n",
    "    linlog=False,\n",
    "    linthresh=100,\n",
    "    irf_location=214,\n",
    "    title=\"WL-PSI Time Range 4\",\n",
    "    use_svd_number=True,\n",
    ")"
   ]
  },
  {
   "cell_type": "markdown",
   "metadata": {},
   "source": [
    "## Step 1b Motivation of the simple model"
   ]
  },
  {
   "cell_type": "markdown",
   "metadata": {},
   "source": [
    "With all three time ranges the SVD points to rank 4 matrix, which will require at least four temporally and spectrally linearly independent components. Since there is preknowledge that some free Chla is present we will start the global analysis with a sequential scheme with three compartments, plus a parallelly decaying free Chla compartment. \n",
    "Especially with the shortest time range a parabolic wavelength dependence of the rise of the IRF is visible, therefore we will model this dispersion with a 2nd order polynomial.\n",
    "We will start with a simple Gaussian shaped IRF."
   ]
  },
  {
   "cell_type": "markdown",
   "metadata": {},
   "source": [
    "### Optional: display model file and starting parameters"
   ]
  },
  {
   "cell_type": "markdown",
   "metadata": {},
   "source": [
    "#### Model file"
   ]
  },
  {
   "cell_type": "code",
   "execution_count": null,
   "metadata": {},
   "outputs": [],
   "source": [
    "# Uncomment the following 3 lines to display the target model file in the notebook\n",
    "from glotaran.utils.ipython import display_file\n",
    "\n",
    "target_model_path = \"models/globalWLstep1b_PSI_CF9212_streak_global_dispWLsimple.yml\"\n",
    "display_file(target_model_path, syntax=\"yaml\")\n",
    "\n",
    "# Alternatively (recommended), open the file in a text editor to see the model definition"
   ]
  },
  {
   "cell_type": "markdown",
   "metadata": {},
   "source": [
    "#### Parameters file"
   ]
  },
  {
   "cell_type": "code",
   "execution_count": null,
   "metadata": {},
   "outputs": [],
   "source": [
    "# Uncomment the following 3 lines and run the cell to print the starting values of the analysis\n",
    "# These starting values have already been optimized, hence the name optimizedparameters\n",
    "target_parameters_path = (\n",
    "    \"models/globalWLstep1b_PSI_CF9212_streak_global_dispWLsimple.csv\"\n",
    ")\n",
    "optimizedparameters = load_parameters(target_parameters_path)\n",
    "optimizedparameters"
   ]
  },
  {
   "cell_type": "markdown",
   "metadata": {},
   "source": [
    "## Step 1b Create scheme with simple Gaussian IRF and optimize it"
   ]
  },
  {
   "cell_type": "code",
   "execution_count": null,
   "metadata": {},
   "outputs": [],
   "source": [
    "target_scheme = Scheme(\n",
    "    model=\"models/globalWLstep1b_PSI_CF9212_streak_global_dispWLsimple.yml\",\n",
    "    parameters=\"models/globalWLstep1b_PSI_CF9212_streak_global_dispWLsimple.csv\",\n",
    "    maximum_number_function_evaluations=7,\n",
    "    clp_link_tolerance=0.1,\n",
    "    data={\n",
    "        \"CF9212WLtr1\": CF9212DATA_PATH2,\n",
    "        \"CF9212WLtr2\": CF9212DATA_PATH4,\n",
    "        \"CF9212WLtr4\": CF9212DATA_PATH6,\n",
    "    },\n",
    ")\n",
    "target_scheme.validate()"
   ]
  },
  {
   "cell_type": "code",
   "execution_count": null,
   "metadata": {},
   "outputs": [],
   "source": [
    "# warning: this can take a minute or two, even on a fast machine\n",
    "target_result1 = optimize(target_scheme, raise_exception=True)"
   ]
  },
  {
   "cell_type": "markdown",
   "metadata": {},
   "source": [
    "For reference, the final Cost should be\n",
    "- 7         2.0822e+02\n"
   ]
  },
  {
   "cell_type": "code",
   "execution_count": null,
   "metadata": {},
   "outputs": [],
   "source": [
    "target_result1"
   ]
  },
  {
   "cell_type": "code",
   "execution_count": null,
   "metadata": {},
   "outputs": [],
   "source": [
    "import matplotlib.pyplot as plt\n",
    "from cycler import cycler\n",
    "from pyglotaran_extras.plotting.plot_residual import plot_residual\n",
    "from pyglotaran_extras.plotting.plot_svd import plot_lsv_residual\n",
    "from pyglotaran_extras.plotting.plot_svd import plot_rsv_residual\n",
    "from pyglotaran_extras.plotting.style import ColorCode as cc\n",
    "\n",
    "\n",
    "def plot_svd_of_residual(\n",
    "    result_dataset,\n",
    "    result_dataset2,\n",
    "    result_dataset3,\n",
    "    linlog,\n",
    "    linthresh,\n",
    "    loc1,\n",
    "    loc2,\n",
    "    loc3,\n",
    "    colors=[\"tab:grey\", \"tab:orange\", cc.cyan],\n",
    "):\n",
    "    fig, axes = plt.subplots(1, 2, figsize=(10, 2))\n",
    "    custom_cycler = cycler(color=[colors[0]])\n",
    "    plot_lsv_residual(\n",
    "        result_dataset,\n",
    "        axes[0],\n",
    "        indices=[0],\n",
    "        linlog=linlog,\n",
    "        linthresh=linthresh,\n",
    "        cycler=custom_cycler,\n",
    "        irf_location=loc1,\n",
    "    )\n",
    "    custom_cycler = cycler(color=[colors[1]])\n",
    "    plot_lsv_residual(\n",
    "        result_dataset2,\n",
    "        axes[0],\n",
    "        indices=[0],\n",
    "        linlog=linlog,\n",
    "        linthresh=linthresh,\n",
    "        cycler=custom_cycler,\n",
    "        irf_location=loc2,\n",
    "    )\n",
    "    custom_cycler = cycler(color=[colors[2]])\n",
    "    plot_lsv_residual(\n",
    "        result_dataset3,\n",
    "        axes[0],\n",
    "        indices=[0],\n",
    "        linlog=linlog,\n",
    "        linthresh=linthresh,\n",
    "        cycler=custom_cycler,\n",
    "        irf_location=loc3,\n",
    "    )\n",
    "    axes[0].set_xlabel(\"Time (ps)\")\n",
    "    axes[0].get_legend().remove()\n",
    "    axes[0].set_ylabel(\"\")\n",
    "    axes[0].set_title(\"residual 1st LSV\")\n",
    "    custom_cycler = cycler(color=[colors[0]])\n",
    "    plot_rsv_residual(result_dataset, axes[1], indices=[0], cycler=custom_cycler)\n",
    "    custom_cycler = cycler(color=[colors[1]])\n",
    "    plot_rsv_residual(result_dataset2, axes[1], indices=[0], cycler=custom_cycler)\n",
    "    custom_cycler = cycler(color=[colors[2]])\n",
    "    plot_rsv_residual(result_dataset3, axes[1], indices=[0], cycler=custom_cycler)\n",
    "    axes[1].set_xlabel(\"Wavelength (nm)\")\n",
    "    axes[1].set_title(\"residual 1st RSV\")\n",
    "    axes[1].get_legend().remove()\n",
    "    axes[1].set_ylabel(\"\")\n",
    "\n",
    "    return fig, axes\n",
    "\n",
    "\n",
    "fig, axes = plot_svd_of_residual(\n",
    "    target_result1.data[\"CF9212WLtr1\"],\n",
    "    target_result1.data[\"CF9212WLtr2\"],\n",
    "    target_result1.data[\"CF9212WLtr4\"],\n",
    "    linlog=True,\n",
    "    linthresh=100,\n",
    "    loc1=57,\n",
    "    loc2=57,\n",
    "    loc3=214,\n",
    ")\n",
    "axes[0].annotate(\"A\", xy=(-0.1, 1), xycoords=\"axes fraction\", fontsize=16)\n",
    "axes[1].annotate(\"B\", xy=(-0.1, 1), xycoords=\"axes fraction\", fontsize=16)"
   ]
  },
  {
   "cell_type": "markdown",
   "metadata": {},
   "source": [
    "The residuals are highly structured, especially around the location of the maximum of the IRF. Therefore we change the IRF shape to a double Gaussian."
   ]
  },
  {
   "cell_type": "code",
   "execution_count": null,
   "metadata": {},
   "outputs": [],
   "source": [
    "target_result1.root_mean_square_error"
   ]
  },
  {
   "cell_type": "markdown",
   "metadata": {},
   "source": [
    "## Step 1c Create scheme with double Gaussian IRF and optimize it"
   ]
  },
  {
   "cell_type": "code",
   "execution_count": null,
   "metadata": {},
   "outputs": [],
   "source": [
    "target_scheme = Scheme(\n",
    "    model=\"models/globalWLstep1c_PSI_CF9212_streak_global_dispWLdouble.yml\",\n",
    "    parameters=\"models/globalWLstep1c_PSI_CF9212_streak_global_dispWLdouble.csv\",\n",
    "    maximum_number_function_evaluations=7,\n",
    "    clp_link_tolerance=0.1,\n",
    "    data={\n",
    "        \"CF9212WLtr1\": CF9212DATA_PATH2,\n",
    "        \"CF9212WLtr2\": CF9212DATA_PATH4,\n",
    "        \"CF9212WLtr4\": CF9212DATA_PATH6,\n",
    "    },\n",
    ")\n",
    "target_scheme.validate()"
   ]
  },
  {
   "cell_type": "code",
   "execution_count": null,
   "metadata": {},
   "outputs": [],
   "source": [
    "# warning: this can take a minute or two, even on a fast machine\n",
    "target_result2 = optimize(target_scheme, raise_exception=True)"
   ]
  },
  {
   "cell_type": "markdown",
   "metadata": {},
   "source": [
    "For reference, the final Cost should be\n",
    "- 7         1.7473e+02\n"
   ]
  },
  {
   "cell_type": "code",
   "execution_count": null,
   "metadata": {},
   "outputs": [],
   "source": [
    "target_result2"
   ]
  },
  {
   "cell_type": "code",
   "execution_count": null,
   "metadata": {},
   "outputs": [],
   "source": [
    "fig, axes = plot_svd_of_residual(\n",
    "    target_result2.data[\"CF9212WLtr1\"],\n",
    "    target_result2.data[\"CF9212WLtr2\"],\n",
    "    target_result2.data[\"CF9212WLtr4\"],\n",
    "    linlog=True,\n",
    "    linthresh=100,\n",
    "    loc1=57,\n",
    "    loc2=57,\n",
    "    loc3=214,\n",
    ")\n",
    "axes[0].annotate(\"A\", xy=(-0.1, 1), xycoords=\"axes fraction\", fontsize=16)\n",
    "axes[1].annotate(\"B\", xy=(-0.1, 1), xycoords=\"axes fraction\", fontsize=16)"
   ]
  },
  {
   "cell_type": "markdown",
   "metadata": {},
   "source": [
    "The residuals are still structured, therefore we know introduce an independent free Chla fraction for each time range."
   ]
  },
  {
   "cell_type": "code",
   "execution_count": null,
   "metadata": {},
   "outputs": [],
   "source": [
    "target_result2.root_mean_square_error"
   ]
  },
  {
   "cell_type": "markdown",
   "metadata": {},
   "source": [
    "## Step 1d Create scheme with free Chl a fraction per experiment"
   ]
  },
  {
   "cell_type": "code",
   "execution_count": null,
   "metadata": {},
   "outputs": [],
   "source": [
    "target_scheme = Scheme(\n",
    "    model=\"models/globalWLstep1d_PSI_CF9212_streak_global_dispWLfree.yml\",\n",
    "    parameters=\"models/globalWLstep1d_PSI_CF9212_streak_global_dispWLfree.csv\",\n",
    "    maximum_number_function_evaluations=7,\n",
    "    clp_link_tolerance=0.1,\n",
    "    data={\n",
    "        \"CF9212WLtr1\": CF9212DATA_PATH2,\n",
    "        \"CF9212WLtr2\": CF9212DATA_PATH4,\n",
    "        \"CF9212WLtr4\": CF9212DATA_PATH6,\n",
    "    },\n",
    ")\n",
    "target_scheme.validate()"
   ]
  },
  {
   "cell_type": "code",
   "execution_count": null,
   "metadata": {},
   "outputs": [],
   "source": [
    "# warning: this can take a minute or two, even on a fast machine\n",
    "target_result3 = optimize(target_scheme, raise_exception=True)"
   ]
  },
  {
   "cell_type": "markdown",
   "metadata": {},
   "source": [
    "For reference, the final Cost should be\n",
    "- 7         1.4290e+02 \n"
   ]
  },
  {
   "cell_type": "code",
   "execution_count": null,
   "metadata": {},
   "outputs": [],
   "source": [
    "target_result3"
   ]
  },
  {
   "cell_type": "code",
   "execution_count": null,
   "metadata": {},
   "outputs": [],
   "source": [
    "fig, axes = plot_svd_of_residual(\n",
    "    target_result3.data[\"CF9212WLtr1\"],\n",
    "    target_result3.data[\"CF9212WLtr2\"],\n",
    "    target_result3.data[\"CF9212WLtr4\"],\n",
    "    linlog=True,\n",
    "    linthresh=100,\n",
    "    loc1=57,\n",
    "    loc2=57,\n",
    "    loc3=214,\n",
    ")\n",
    "axes[0].annotate(\"A\", xy=(-0.1, 1), xycoords=\"axes fraction\", fontsize=16)\n",
    "axes[1].annotate(\"B\", xy=(-0.1, 1), xycoords=\"axes fraction\", fontsize=16)"
   ]
  },
  {
   "cell_type": "code",
   "execution_count": null,
   "metadata": {},
   "outputs": [],
   "source": [
    "target_result3.root_mean_square_error"
   ]
  },
  {
   "cell_type": "markdown",
   "metadata": {},
   "source": [
    "### Plot result for interpretation\n"
   ]
  },
  {
   "cell_type": "code",
   "execution_count": null,
   "metadata": {},
   "outputs": [],
   "source": [
    "import matplotlib.pyplot as plt\n",
    "from cycler import cycler\n",
    "from pyglotaran_extras.plotting.plot_concentrations import plot_concentrations\n",
    "from pyglotaran_extras.plotting.plot_spectra import plot_sas\n",
    "from pyglotaran_extras.plotting.plot_spectra import plot_das\n",
    "from pyglotaran_extras.plotting.style import ColorCode\n",
    "\n",
    "# ColorCode.green,\"k\",\n",
    "myFRLcolors = [\n",
    "    \"k\",\n",
    "    \"r\",\n",
    "    \"b\",\n",
    "    ColorCode.green,\n",
    "    \"tab:orange\",\n",
    "    \"tab:grey\",\n",
    "    ColorCode.cyan,\n",
    "    \"w\",\n",
    "]\n",
    "# myFRLcolors2 = [ \"g\",\"tab:orange\",  \"r\", \"k\",ColorCode.magenta,ColorCode.purple, \"w\", \"w\",\"w\",\"w\",\"y\",ColorCode.maroon]\n",
    "myFRLcolors2 = [\n",
    "    \"g\",\n",
    "    \"tab:orange\",\n",
    "    \"r\",\n",
    "    \"k\",\n",
    "    ColorCode.magenta,\n",
    "    ColorCode.indigo,\n",
    "    ColorCode.brown,\n",
    "    \"w\",\n",
    "    \"w\",\n",
    "    \"w\",\n",
    "    \"y\",\n",
    "    ColorCode.maroon,\n",
    "]\n",
    "\n",
    "fig, axes = plt.subplots(1, 3, figsize=(15, 4))\n",
    "# custom_cycler = cycler(color=myFRLcolors, linestyle=[\"--\"] * 7)\n",
    "custom_cycler = cycler(color=myFRLcolors)\n",
    "plot_concentrations(\n",
    "    target_result3.data[\"CF9212WLtr1\"],\n",
    "    axes[0],\n",
    "    center_λ=0,\n",
    "    linlog=True,\n",
    "    linthresh=100,\n",
    "    cycler=custom_cycler,\n",
    ")\n",
    "plot_concentrations(\n",
    "    target_result3.data[\"CF9212WLtr2\"],\n",
    "    axes[0],\n",
    "    center_λ=0,\n",
    "    linlog=True,\n",
    "    linthresh=100,\n",
    "    cycler=custom_cycler,\n",
    ")\n",
    "# custom_cycler2 = cycler(color=myFRLcolors2)\n",
    "# plot_concentrations(target_result3.data[\"CF9212FRLtr2\"], axes[0], center_λ=0, linlog=True, linthresh=100, cycler=custom_cycler2)\n",
    "# plot_concentrations(target_result3.data[\"CF9212FRLtr4\"], axes[0], center_λ=0, linlog=True, linthresh=100, cycler=custom_cycler2)\n",
    "# plot_sas(target_result3.data[\"CF9212FRLtr4\"], axes[1], cycler=custom_cycler2)\n",
    "plot_sas(target_result3.data[\"CF9212WLtr4\"], axes[1], cycler=custom_cycler)\n",
    "plot_das(target_result3.data[\"CF9212WLtr4\"], axes[2], cycler=custom_cycler)\n",
    "axes[0].set_xlabel(\"Time (ps)\")\n",
    "axes[0].set_ylabel(\"\")\n",
    "axes[0].axhline(0, color=\"k\", linewidth=1)\n",
    "axes[1].set_xlabel(\"Wavelength (nm)\")\n",
    "axes[2].set_xlabel(\"Wavelength (nm)\")\n",
    "axes[1].set_ylabel(\"\")\n",
    "axes[2].set_ylabel(\"\")\n",
    "axes[1].set_title(\"EAS/SAS\")\n",
    "axes[1].axhline(0, color=\"k\", linewidth=1)\n",
    "axes[0].annotate(\"A\", xy=(-0.05, 1.02), xycoords=\"axes fraction\", fontsize=16)\n",
    "axes[1].annotate(\"B\", xy=(-0.05, 1.02), xycoords=\"axes fraction\", fontsize=16)\n",
    "axes[2].annotate(\"C\", xy=(-0.05, 1.02), xycoords=\"axes fraction\", fontsize=16)"
   ]
  },
  {
   "cell_type": "code",
   "execution_count": null,
   "metadata": {},
   "outputs": [],
   "source": [
    "show_a_matrixes(target_result3)"
   ]
  },
  {
   "cell_type": "code",
   "execution_count": null,
   "metadata": {},
   "outputs": [],
   "source": [
    "target_result3.optimized_parameters"
   ]
  },
  {
   "cell_type": "markdown",
   "metadata": {},
   "source": [
    "### Compute the FWHM of the main Gaussian of the IRF"
   ]
  },
  {
   "cell_type": "code",
   "execution_count": null,
   "metadata": {},
   "outputs": [],
   "source": [
    "import numpy as np\n",
    "\n",
    "const = 2 * np.sqrt(2 * np.log(2))\n",
    "[\n",
    "    const * target_result3.optimized_parameters.get(\"CF9212irfWLtr1.width1\").value,\n",
    "    const * target_result3.optimized_parameters.get(\"CF9212irfWLtr2.width1\").value,\n",
    "    const * target_result3.optimized_parameters.get(\"CF9212irfWLtr4.width1\").value,\n",
    "]"
   ]
  },
  {
   "cell_type": "markdown",
   "metadata": {},
   "source": [
    "### Fit quality of the global analysis of the WL data\n",
    "overlays of traces and fits of 6 selected wavelengths"
   ]
  },
  {
   "cell_type": "code",
   "execution_count": null,
   "metadata": {},
   "outputs": [],
   "source": [
    "CF9212target_result_streak = (\n",
    "    # target_result.data[\"CF9212FRLtr1\"],\n",
    "    target_result3.data[\"CF9212WLtr1\"],\n",
    "    # target_result.data[\"CF9212FRLtr2\"],\n",
    "    target_result3.data[\"CF9212WLtr2\"],\n",
    "    # target_result.data[\"CF9212FRLtr4\"],\n",
    "    target_result3.data[\"CF9212WLtr4\"],\n",
    ")"
   ]
  },
  {
   "cell_type": "code",
   "execution_count": null,
   "metadata": {},
   "outputs": [],
   "source": [
    "import numpy as np\n",
    "\n",
    "# wavelengths = select_plot_wavelengths(\n",
    "#     CF9212target_result_streak, equidistant_wavelengths=True\n",
    "# )\n",
    "wavelengths = np.linspace(665, 795, num=16)\n",
    "plot_fitted_traces(CF9212target_result_streak, wavelengths, linlog=True, linthresh=100)"
   ]
  },
  {
   "cell_type": "code",
   "execution_count": null,
   "metadata": {},
   "outputs": [],
   "source": [
    "import warnings\n",
    "from pyglotaran_extras.plotting.style import ColorCode as cc\n",
    "\n",
    "with warnings.catch_warnings():\n",
    "    warnings.simplefilter(\"ignore\")\n",
    "    fig, ax_ = plot_fitted_traces(\n",
    "        CF9212target_result_streak,\n",
    "        [685, 705, 715, 740],\n",
    "        linlog=True,\n",
    "        linthresh=10,\n",
    "        axes_shape=(3, 2),\n",
    "        figsize=(8, 6),\n",
    "        title=\"\",\n",
    "        per_axis_legend=True,\n",
    "        cycler=cycler(\n",
    "            color=[\n",
    "                cc.grey,\n",
    "                cc.black,\n",
    "                cc.orange,\n",
    "                cc.red,\n",
    "                cc.cyan,\n",
    "                cc.blue,\n",
    "            ]\n",
    "        ),\n",
    "    )\n",
    "    handles, labels = ax_.flatten()[0].get_legend_handles_labels()\n",
    "    for i in range(len(handles)):\n",
    "        if i == 1:\n",
    "            labels[i] = \"TR1\"\n",
    "        elif i == 3:\n",
    "            labels[i] = \"TR2\"\n",
    "        elif i == 5:\n",
    "            labels[i] = \"TR4\"\n",
    "        else:\n",
    "            labels[i] = \"_Hidden\"\n",
    "    for idx, ax in enumerate(ax_.flatten()):\n",
    "        ax.set_ylabel(ax.title.get_text().replace(\"spectral = \", \"\"))\n",
    "        if idx > 1:\n",
    "            ax.set_xlabel(\"Time (ps)\")\n",
    "        else:\n",
    "            ax.set_xlabel(\"\")\n",
    "        ax.set_title(\"\")\n",
    "        if ax.get_legend() is not None:\n",
    "            ax.get_legend().remove()\n",
    "        for line in ax.lines:\n",
    "            # line.set_linewidth(0.5)  # Set the line width here\n",
    "            line.set_linewidth(1)  # Set the line width here\n",
    "    fig.legend(\n",
    "        handles,\n",
    "        labels,\n",
    "        bbox_to_anchor=(0.5, -0.05),\n",
    "        loc=\"lower center\",\n",
    "        ncol=len(handles),\n",
    "    )\n",
    "    fig.tight_layout()"
   ]
  },
  {
   "cell_type": "code",
   "execution_count": null,
   "metadata": {},
   "outputs": [],
   "source": [
    "import warnings\n",
    "from pyglotaran_extras.plotting.style import ColorCode as cc\n",
    "\n",
    "with warnings.catch_warnings():\n",
    "    warnings.simplefilter(\"ignore\")\n",
    "    fig, ax_ = plot_fitted_traces(\n",
    "        CF9212target_result_streak,\n",
    "        [685, 705, 715, 740],\n",
    "        linlog=True,\n",
    "        linthresh=10,\n",
    "        axes_shape=(2, 2),\n",
    "        figsize=(8, 4),\n",
    "        title=\"\",\n",
    "        per_axis_legend=True,\n",
    "        cycler=cycler(\n",
    "            color=[\n",
    "                cc.grey,\n",
    "                cc.black,\n",
    "                cc.orange,\n",
    "                cc.red,\n",
    "                cc.cyan,\n",
    "                cc.blue,\n",
    "            ]\n",
    "        ),\n",
    "    )\n",
    "    handles, labels = ax_.flatten()[0].get_legend_handles_labels()\n",
    "    for i in range(len(handles)):\n",
    "        if i == 1:\n",
    "            labels[i] = \"TR1\"\n",
    "        elif i == 3:\n",
    "            labels[i] = \"TR2\"\n",
    "        elif i == 5:\n",
    "            labels[i] = \"TR4\"\n",
    "        else:\n",
    "            labels[i] = \"_Hidden\"\n",
    "    for idx, ax in enumerate(ax_.flatten()):\n",
    "        ax.set_ylabel(ax.title.get_text().replace(\"spectral = \", \"\"))\n",
    "        if idx > 1:\n",
    "            ax.set_xlabel(\"Time (ps)\")\n",
    "        else:\n",
    "            ax.set_xlabel(\"\")\n",
    "        ax.set_title(\"\")\n",
    "        if ax.get_legend() is not None:\n",
    "            ax.get_legend().remove()\n",
    "        for line in ax.lines:\n",
    "            # line.set_linewidth(0.5)  # Set the line width here\n",
    "            line.set_linewidth(1)  # Set the line width here\n",
    "    fig.legend(\n",
    "        handles,\n",
    "        labels,\n",
    "        bbox_to_anchor=(0.5, -0.05),\n",
    "        loc=\"lower center\",\n",
    "        ncol=len(handles),\n",
    "    )\n",
    "    fig.tight_layout()"
   ]
  },
  {
   "cell_type": "markdown",
   "metadata": {},
   "source": [
    "## Step 2a Create simple target scheme of WL-PSI with Bulk and RP"
   ]
  },
  {
   "cell_type": "code",
   "execution_count": null,
   "metadata": {},
   "outputs": [],
   "source": [
    "# Uncomment the following 3 lines to display the target model file in the notebook\n",
    "from glotaran.utils.ipython import display_file\n",
    "\n",
    "target_model_path = \"models/targetWLstep2a_PSI_CF9212_streak_target_dispWL.yml\"\n",
    "display_file(target_model_path, syntax=\"yaml\")\n",
    "\n",
    "# Alternatively (recommended), open the file in a text editor to see the model definition"
   ]
  },
  {
   "cell_type": "code",
   "execution_count": null,
   "metadata": {},
   "outputs": [],
   "source": [
    "target_scheme = Scheme(\n",
    "    model=\"models/targetWLstep2a_PSI_CF9212_streak_target_dispWL.yml\",\n",
    "    parameters=\"models/targetWLstep2a_PSI_CF9212_streak_target_dispWL.csv\",\n",
    "    maximum_number_function_evaluations=7,\n",
    "    clp_link_tolerance=0.1,\n",
    "    data={\n",
    "        \"CF9212WLtr1\": CF9212DATA_PATH2,\n",
    "        \"CF9212WLtr2\": CF9212DATA_PATH4,\n",
    "        \"CF9212WLtr4\": CF9212DATA_PATH6,\n",
    "        # \"WLRCSAS\": \"data/PSI_7521FR_WLtr124av8nobridgetarget_dispcorri4WLRC.ascii\",\n",
    "    },\n",
    ")\n",
    "target_scheme.validate()"
   ]
  },
  {
   "cell_type": "code",
   "execution_count": null,
   "metadata": {},
   "outputs": [],
   "source": [
    "# warning: this can take a minute or two, even on a fast machine\n",
    "target_result = optimize(target_scheme, raise_exception=True)"
   ]
  },
  {
   "cell_type": "code",
   "execution_count": null,
   "metadata": {},
   "outputs": [],
   "source": [
    "target_result"
   ]
  },
  {
   "cell_type": "code",
   "execution_count": null,
   "metadata": {},
   "outputs": [],
   "source": [
    "fig, axes = plot_svd_of_residual(\n",
    "    target_result.data[\"CF9212WLtr1\"],\n",
    "    target_result.data[\"CF9212WLtr2\"],\n",
    "    target_result.data[\"CF9212WLtr4\"],\n",
    "    linlog=True,\n",
    "    linthresh=100,\n",
    "    loc1=57,\n",
    "    loc2=57,\n",
    "    loc3=214,\n",
    ")\n",
    "axes[0].annotate(\"A\", xy=(-0.1, 1), xycoords=\"axes fraction\", fontsize=16)\n",
    "axes[1].annotate(\"B\", xy=(-0.1, 1), xycoords=\"axes fraction\", fontsize=16)"
   ]
  },
  {
   "cell_type": "markdown",
   "metadata": {},
   "source": [
    "Note the very large residuals"
   ]
  },
  {
   "cell_type": "code",
   "execution_count": null,
   "metadata": {},
   "outputs": [],
   "source": [
    "target_result.root_mean_square_error"
   ]
  },
  {
   "cell_type": "markdown",
   "metadata": {},
   "source": [
    "### Plot result for interpretation\n"
   ]
  },
  {
   "cell_type": "code",
   "execution_count": null,
   "metadata": {},
   "outputs": [],
   "source": [
    "import matplotlib.pyplot as plt\n",
    "from cycler import cycler\n",
    "from pyglotaran_extras.plotting.plot_concentrations import plot_concentrations\n",
    "from pyglotaran_extras.plotting.plot_spectra import plot_sas\n",
    "from pyglotaran_extras.plotting.style import ColorCode\n",
    "\n",
    "# ColorCode.green,\"k\",\n",
    "myFRLcolors = [\"g\", ColorCode.cyan, ColorCode.green, \"w\"]\n",
    "\n",
    "fig, axes = plt.subplots(1, 2, figsize=(15, 4))\n",
    "# custom_cycler = cycler(color=myFRLcolors, linestyle=[\"--\"] * 7)\n",
    "custom_cycler = cycler(color=myFRLcolors)\n",
    "# plot_concentrations(target_result.data[\"CF9212WLtr1\"], axes[0], center_λ=0, linlog=True, linthresh=100, cycler=custom_cycler)\n",
    "plot_concentrations(\n",
    "    target_result.data[\"CF9212WLtr2\"],\n",
    "    axes[0],\n",
    "    center_λ=0,\n",
    "    linlog=True,\n",
    "    linthresh=100,\n",
    "    cycler=custom_cycler,\n",
    ")\n",
    "# custom_cycler2 = cycler(color=myFRLcolors2)\n",
    "# plot_concentrations(target_result.data[\"CF9212FRLtr2\"], axes[0], center_λ=0, linlog=True, linthresh=100, cycler=custom_cycler2)\n",
    "# plot_concentrations(target_result.data[\"CF9212FRLtr4\"], axes[0], center_λ=0, linlog=True, linthresh=100, cycler=custom_cycler2)\n",
    "# plot_sas(target_result.data[\"CF9212FRLtr4\"], axes[1], cycler=custom_cycler2)\n",
    "plot_sas(target_result.data[\"CF9212WLtr4\"], axes[1], cycler=custom_cycler)\n",
    "axes[0].set_xlabel(\"Time (ps)\")\n",
    "axes[0].set_ylabel(\"\")\n",
    "axes[0].axhline(0, color=\"k\", linewidth=1)\n",
    "axes[1].set_xlabel(\"Wavelength (nm)\")\n",
    "axes[1].set_ylabel(\"\")\n",
    "axes[1].set_title(\"SAS\")\n",
    "axes[1].axhline(0, color=\"k\", linewidth=1)\n",
    "axes[0].annotate(\"A\", xy=(-0.05, 1.02), xycoords=\"axes fraction\", fontsize=16)\n",
    "axes[1].annotate(\"B\", xy=(-0.05, 1.02), xycoords=\"axes fraction\", fontsize=16)"
   ]
  },
  {
   "cell_type": "markdown",
   "metadata": {},
   "source": [
    "## Step 2b Create target scheme of WL-PSI with Bulk, Red and RP\n"
   ]
  },
  {
   "cell_type": "code",
   "execution_count": null,
   "metadata": {},
   "outputs": [],
   "source": [
    "target_scheme = Scheme(\n",
    "    model=\"models/targetWLstep2b_PSI_CF9212_streak_target_dispWL.yml\",\n",
    "    parameters=\"models/targetWLstep2b_PSI_CF9212_streak_target_dispWL.csv\",\n",
    "    maximum_number_function_evaluations=7,\n",
    "    clp_link_tolerance=0.1,\n",
    "    data={\n",
    "        \"CF9212WLtr1\": CF9212DATA_PATH2,\n",
    "        \"CF9212WLtr2\": CF9212DATA_PATH4,\n",
    "        \"CF9212WLtr4\": CF9212DATA_PATH6,\n",
    "        # \"WLRCSAS\": \"data/PSI_7521FR_WLtr124av8nobridgetarget_dispcorri4WLRC.ascii\",\n",
    "    },\n",
    ")\n",
    "target_scheme.validate()"
   ]
  },
  {
   "cell_type": "code",
   "execution_count": null,
   "metadata": {},
   "outputs": [],
   "source": [
    "# warning: this can take a minute or two, even on a fast machine\n",
    "target_result = optimize(target_scheme, raise_exception=True)"
   ]
  },
  {
   "cell_type": "code",
   "execution_count": null,
   "metadata": {},
   "outputs": [],
   "source": [
    "target_result"
   ]
  },
  {
   "cell_type": "code",
   "execution_count": null,
   "metadata": {},
   "outputs": [],
   "source": [
    "fig, axes = plot_svd_of_residual(\n",
    "    target_result.data[\"CF9212WLtr1\"],\n",
    "    target_result.data[\"CF9212WLtr2\"],\n",
    "    target_result.data[\"CF9212WLtr4\"],\n",
    "    linlog=True,\n",
    "    linthresh=100,\n",
    "    loc1=57,\n",
    "    loc2=57,\n",
    "    loc3=214,\n",
    ")\n",
    "axes[0].annotate(\"A\", xy=(-0.1, 1), xycoords=\"axes fraction\", fontsize=16)\n",
    "axes[1].annotate(\"B\", xy=(-0.1, 1), xycoords=\"axes fraction\", fontsize=16)"
   ]
  },
  {
   "cell_type": "markdown",
   "metadata": {},
   "source": [
    "Note the still large trends in the residuals, especially in the 1st RSV around 730 nm."
   ]
  },
  {
   "cell_type": "code",
   "execution_count": null,
   "metadata": {},
   "outputs": [],
   "source": [
    "target_result.root_mean_square_error"
   ]
  },
  {
   "cell_type": "markdown",
   "metadata": {},
   "source": [
    "### Plot result for interpretation\n"
   ]
  },
  {
   "cell_type": "code",
   "execution_count": null,
   "metadata": {},
   "outputs": [],
   "source": [
    "import matplotlib.pyplot as plt\n",
    "from cycler import cycler\n",
    "from pyglotaran_extras.plotting.plot_concentrations import plot_concentrations\n",
    "from pyglotaran_extras.plotting.plot_spectra import plot_sas\n",
    "from pyglotaran_extras.plotting.style import ColorCode\n",
    "\n",
    "# ColorCode.green,\"k\",\n",
    "myFRLcolors = [\"g\", \"r\", ColorCode.cyan, ColorCode.green, \"w\"]\n",
    "\n",
    "fig, axes = plt.subplots(1, 2, figsize=(15, 4))\n",
    "# custom_cycler = cycler(color=myFRLcolors, linestyle=[\"--\"] * 7)\n",
    "custom_cycler = cycler(color=myFRLcolors)\n",
    "# plot_concentrations(target_result.data[\"CF9212WLtr1\"], axes[0], center_λ=0, linlog=True, linthresh=100, cycler=custom_cycler)\n",
    "plot_concentrations(\n",
    "    target_result.data[\"CF9212WLtr2\"],\n",
    "    axes[0],\n",
    "    center_λ=0,\n",
    "    linlog=True,\n",
    "    linthresh=100,\n",
    "    cycler=custom_cycler,\n",
    ")\n",
    "# custom_cycler2 = cycler(color=myFRLcolors2)\n",
    "# plot_concentrations(target_result.data[\"CF9212FRLtr2\"], axes[0], center_λ=0, linlog=True, linthresh=100, cycler=custom_cycler2)\n",
    "# plot_concentrations(target_result.data[\"CF9212FRLtr4\"], axes[0], center_λ=0, linlog=True, linthresh=100, cycler=custom_cycler2)\n",
    "# plot_sas(target_result.data[\"CF9212FRLtr4\"], axes[1], cycler=custom_cycler2)\n",
    "plot_sas(target_result.data[\"CF9212WLtr4\"], axes[1], cycler=custom_cycler)\n",
    "axes[0].set_xlabel(\"Time (ps)\")\n",
    "axes[0].set_ylabel(\"\")\n",
    "axes[0].axhline(0, color=\"k\", linewidth=1)\n",
    "axes[1].set_xlabel(\"Wavelength (nm)\")\n",
    "axes[1].set_ylabel(\"\")\n",
    "axes[1].set_title(\"SAS\")\n",
    "axes[1].axhline(0, color=\"k\", linewidth=1)\n",
    "axes[0].annotate(\"A\", xy=(-0.05, 1.02), xycoords=\"axes fraction\", fontsize=16)\n",
    "axes[1].annotate(\"B\", xy=(-0.05, 1.02), xycoords=\"axes fraction\", fontsize=16)"
   ]
  },
  {
   "cell_type": "markdown",
   "metadata": {},
   "source": [
    "## Step 2c Create target scheme of WL-PSI with Bulk, Red1, Red2 and RP\n"
   ]
  },
  {
   "cell_type": "code",
   "execution_count": null,
   "metadata": {},
   "outputs": [],
   "source": [
    "target_scheme = Scheme(\n",
    "    model=\"models/targetWLstep2c_PSI_CF9212_streak_target_dispWL.yml\",\n",
    "    parameters=\"models/targetWLstep2c_PSI_CF9212_streak_target_dispWL.csv\",\n",
    "    maximum_number_function_evaluations=7,\n",
    "    clp_link_tolerance=0.1,\n",
    "    data={\n",
    "        \"CF9212WLtr1\": CF9212DATA_PATH2,\n",
    "        \"CF9212WLtr2\": CF9212DATA_PATH4,\n",
    "        \"CF9212WLtr4\": CF9212DATA_PATH6,\n",
    "        # \"WLRCSAS\": \"data/PSI_7521FR_WLtr124av8nobridgetarget_dispcorri4WLRC.ascii\",\n",
    "    },\n",
    ")\n",
    "target_scheme.validate()"
   ]
  },
  {
   "cell_type": "code",
   "execution_count": null,
   "metadata": {},
   "outputs": [],
   "source": [
    "# warning: this can take a minute or two, even on a fast machine\n",
    "target_result = optimize(target_scheme, raise_exception=True)"
   ]
  },
  {
   "cell_type": "code",
   "execution_count": null,
   "metadata": {},
   "outputs": [],
   "source": [
    "target_result"
   ]
  },
  {
   "cell_type": "code",
   "execution_count": null,
   "metadata": {},
   "outputs": [],
   "source": [
    "fig, axes = plot_svd_of_residual(\n",
    "    target_result.data[\"CF9212WLtr1\"],\n",
    "    target_result.data[\"CF9212WLtr2\"],\n",
    "    target_result.data[\"CF9212WLtr4\"],\n",
    "    linlog=True,\n",
    "    linthresh=100,\n",
    "    loc1=57,\n",
    "    loc2=57,\n",
    "    loc3=214,\n",
    ")\n",
    "axes[0].annotate(\"A\", xy=(-0.1, 1), xycoords=\"axes fraction\", fontsize=16)\n",
    "axes[1].annotate(\"B\", xy=(-0.1, 1), xycoords=\"axes fraction\", fontsize=16)"
   ]
  },
  {
   "cell_type": "markdown",
   "metadata": {},
   "source": [
    "Note that the previous trends in the residuals, especially in the 1st RSV around 730 nm, have disappeared."
   ]
  },
  {
   "cell_type": "code",
   "execution_count": null,
   "metadata": {},
   "outputs": [],
   "source": [
    "target_result.root_mean_square_error"
   ]
  },
  {
   "cell_type": "markdown",
   "metadata": {},
   "source": [
    "### Plot result for interpretation\n"
   ]
  },
  {
   "cell_type": "code",
   "execution_count": null,
   "metadata": {},
   "outputs": [],
   "source": [
    "import matplotlib.pyplot as plt\n",
    "from cycler import cycler\n",
    "from pyglotaran_extras.plotting.plot_concentrations import plot_concentrations\n",
    "from pyglotaran_extras.plotting.plot_spectra import plot_sas\n",
    "from pyglotaran_extras.plotting.style import ColorCode\n",
    "\n",
    "# ColorCode.green,\"k\",\n",
    "myFRLcolors = [\"g\", \"tab:orange\", \"r\", ColorCode.cyan, ColorCode.green, \"w\"]\n",
    "\n",
    "fig, axes = plt.subplots(1, 2, figsize=(15, 4))\n",
    "# custom_cycler = cycler(color=myFRLcolors, linestyle=[\"--\"] * 7)\n",
    "custom_cycler = cycler(color=myFRLcolors)\n",
    "# plot_concentrations(target_result.data[\"CF9212WLtr1\"], axes[0], center_λ=0, linlog=True, linthresh=100, cycler=custom_cycler)\n",
    "plot_concentrations(\n",
    "    target_result.data[\"CF9212WLtr2\"],\n",
    "    axes[0],\n",
    "    center_λ=0,\n",
    "    linlog=True,\n",
    "    linthresh=100,\n",
    "    cycler=custom_cycler,\n",
    ")\n",
    "# custom_cycler2 = cycler(color=myFRLcolors2)\n",
    "# plot_concentrations(target_result.data[\"CF9212FRLtr2\"], axes[0], center_λ=0, linlog=True, linthresh=100, cycler=custom_cycler2)\n",
    "# plot_concentrations(target_result.data[\"CF9212FRLtr4\"], axes[0], center_λ=0, linlog=True, linthresh=100, cycler=custom_cycler2)\n",
    "# plot_sas(target_result.data[\"CF9212FRLtr4\"], axes[1], cycler=custom_cycler2)\n",
    "plot_sas(target_result.data[\"CF9212WLtr4\"], axes[1], cycler=custom_cycler)\n",
    "axes[0].set_xlabel(\"Time (ps)\")\n",
    "axes[0].set_ylabel(\"\")\n",
    "axes[0].axhline(0, color=\"k\", linewidth=1)\n",
    "axes[1].set_xlabel(\"Wavelength (nm)\")\n",
    "axes[1].set_ylabel(\"\")\n",
    "axes[1].set_title(\"SAS\")\n",
    "axes[1].axhline(0, color=\"k\", linewidth=1)\n",
    "axes[0].annotate(\"A\", xy=(-0.05, 1.02), xycoords=\"axes fraction\", fontsize=16)\n",
    "axes[1].annotate(\"B\", xy=(-0.05, 1.02), xycoords=\"axes fraction\", fontsize=16)"
   ]
  },
  {
   "cell_type": "markdown",
   "metadata": {},
   "source": [
    "## Step 2d Create target scheme of WL-PSI with a priori knowledge\n",
    "In the target analysis of WL-PSI we use a kinetic scheme (see Figure 10A in the paper) that is based upon the a priori knowledge from the transient absorption experiments about the mechanism of charge separation in WL-PSI. The SAS of the RC is shifted to longer wavelengths relative to the Bulk Chl a SAS. To estimate the RC SAS we will use a guidance SAS. "
   ]
  },
  {
   "cell_type": "code",
   "execution_count": null,
   "metadata": {},
   "outputs": [],
   "source": [
    "# Uncomment the following 3 lines to display the target model file in the notebook\n",
    "from glotaran.utils.ipython import display_file\n",
    "\n",
    "target_model_path = \"models/targetWLstep2d_PSI_CF9212_streak_target_dispWL.yml\"\n",
    "display_file(target_model_path, syntax=\"yaml\")\n",
    "\n",
    "# Alternatively (recommended), open the file in a text editor to see the model definition"
   ]
  },
  {
   "cell_type": "code",
   "execution_count": null,
   "metadata": {},
   "outputs": [],
   "source": [
    "target_scheme = Scheme(\n",
    "    model=\"models/targetWLstep2d_PSI_CF9212_streak_target_dispWL.yml\",\n",
    "    parameters=\"models/targetWLstep2d_PSI_CF9212_streak_target_dispWL.csv\",\n",
    "    maximum_number_function_evaluations=7,\n",
    "    clp_link_tolerance=0.1,\n",
    "    data={\n",
    "        \"CF9212WLtr1\": CF9212DATA_PATH2,\n",
    "        \"CF9212WLtr2\": CF9212DATA_PATH4,\n",
    "        \"CF9212WLtr4\": CF9212DATA_PATH6,\n",
    "        \"WLRCSAS\": \"data/PSI_7521FR_WLtr124av8nobridgetarget_dispcorri4WLRC.ascii\",\n",
    "    },\n",
    ")\n",
    "target_scheme.validate()"
   ]
  },
  {
   "cell_type": "code",
   "execution_count": null,
   "metadata": {},
   "outputs": [],
   "source": [
    "# warning: this can take a minute or two, even on a fast machine\n",
    "target_result = optimize(target_scheme, raise_exception=True)"
   ]
  },
  {
   "cell_type": "markdown",
   "metadata": {},
   "source": [
    "For reference, the final Cost should be\n",
    "- 7         1.4475e+02\n"
   ]
  },
  {
   "cell_type": "code",
   "execution_count": null,
   "metadata": {},
   "outputs": [],
   "source": [
    "target_result"
   ]
  },
  {
   "cell_type": "code",
   "execution_count": null,
   "metadata": {},
   "outputs": [],
   "source": [
    "fig, axes = plot_svd_of_residual(\n",
    "    target_result.data[\"CF9212WLtr1\"],\n",
    "    target_result.data[\"CF9212WLtr2\"],\n",
    "    target_result.data[\"CF9212WLtr4\"],\n",
    "    linlog=True,\n",
    "    linthresh=100,\n",
    "    loc1=57,\n",
    "    loc2=57,\n",
    "    loc3=214,\n",
    ")\n",
    "axes[0].annotate(\"A\", xy=(-0.1, 1), xycoords=\"axes fraction\", fontsize=16)\n",
    "axes[1].annotate(\"B\", xy=(-0.1, 1), xycoords=\"axes fraction\", fontsize=16)"
   ]
  },
  {
   "cell_type": "code",
   "execution_count": null,
   "metadata": {},
   "outputs": [],
   "source": [
    "target_result.root_mean_square_error"
   ]
  },
  {
   "cell_type": "markdown",
   "metadata": {},
   "source": [
    "### Plot result for interpretation\n"
   ]
  },
  {
   "cell_type": "code",
   "execution_count": null,
   "metadata": {},
   "outputs": [],
   "source": [
    "import matplotlib.pyplot as plt\n",
    "from cycler import cycler\n",
    "from pyglotaran_extras.plotting.plot_concentrations import plot_concentrations\n",
    "from pyglotaran_extras.plotting.plot_spectra import plot_sas\n",
    "from pyglotaran_extras.plotting.style import ColorCode\n",
    "\n",
    "# ColorCode.green,\"k\",\n",
    "myFRLcolors = [\"g\", \"tab:orange\", \"r\", \"tab:grey\", ColorCode.cyan, ColorCode.green, \"w\"]\n",
    "# myFRLcolors2 = [ \"g\",\"tab:orange\",  \"r\", \"k\",ColorCode.magenta,ColorCode.purple, \"w\", \"w\",\"w\",\"w\",\"y\",ColorCode.maroon]\n",
    "myFRLcolors2 = [\n",
    "    \"g\",\n",
    "    \"tab:orange\",\n",
    "    \"r\",\n",
    "    \"k\",\n",
    "    ColorCode.magenta,\n",
    "    ColorCode.indigo,\n",
    "    ColorCode.brown,\n",
    "    \"w\",\n",
    "    \"w\",\n",
    "    \"w\",\n",
    "    \"y\",\n",
    "    ColorCode.maroon,\n",
    "]\n",
    "\n",
    "fig, axes = plt.subplots(1, 2, figsize=(15, 4))\n",
    "# custom_cycler = cycler(color=myFRLcolors, linestyle=[\"--\"] * 7)\n",
    "custom_cycler = cycler(color=myFRLcolors)\n",
    "# plot_concentrations(target_result.data[\"CF9212WLtr1\"], axes[0], center_λ=0, linlog=True, linthresh=100, cycler=custom_cycler)\n",
    "plot_concentrations(\n",
    "    target_result.data[\"CF9212WLtr2\"],\n",
    "    axes[0],\n",
    "    center_λ=0,\n",
    "    linlog=True,\n",
    "    linthresh=100,\n",
    "    cycler=custom_cycler,\n",
    ")\n",
    "# custom_cycler2 = cycler(color=myFRLcolors2)\n",
    "# plot_concentrations(target_result.data[\"CF9212FRLtr2\"], axes[0], center_λ=0, linlog=True, linthresh=100, cycler=custom_cycler2)\n",
    "# plot_concentrations(target_result.data[\"CF9212FRLtr4\"], axes[0], center_λ=0, linlog=True, linthresh=100, cycler=custom_cycler2)\n",
    "# plot_sas(target_result.data[\"CF9212FRLtr4\"], axes[1], cycler=custom_cycler2)\n",
    "plot_sas(target_result.data[\"CF9212WLtr4\"], axes[1], cycler=custom_cycler)\n",
    "axes[0].set_xlabel(\"Time (ps)\")\n",
    "axes[0].set_ylabel(\"\")\n",
    "axes[0].axhline(0, color=\"k\", linewidth=1)\n",
    "axes[1].set_xlabel(\"Wavelength (nm)\")\n",
    "axes[1].set_ylabel(\"\")\n",
    "axes[1].set_title(\"SAS\")\n",
    "axes[1].axhline(0, color=\"k\", linewidth=1)\n",
    "axes[0].annotate(\"A\", xy=(-0.05, 1.02), xycoords=\"axes fraction\", fontsize=16)\n",
    "axes[1].annotate(\"B\", xy=(-0.05, 1.02), xycoords=\"axes fraction\", fontsize=16)"
   ]
  },
  {
   "cell_type": "code",
   "execution_count": null,
   "metadata": {},
   "outputs": [],
   "source": [
    "show_a_matrixes(target_result)"
   ]
  },
  {
   "cell_type": "markdown",
   "metadata": {},
   "source": [
    "To save the results of the optimization we can use the `save_result` command.\n",
    "\n",
    "Because it saves *everything* it consumes about 40MB of disk space per save."
   ]
  },
  {
   "cell_type": "code",
   "execution_count": null,
   "metadata": {},
   "outputs": [],
   "source": [
    "save_result(\n",
    "    result=target_result,\n",
    "    result_path=\"results/20230912targetWL_disp/result.yaml\",\n",
    "    allow_overwrite=True,\n",
    ")"
   ]
  },
  {
   "cell_type": "markdown",
   "metadata": {},
   "source": [
    "### Create the WL guidance data sets"
   ]
  },
  {
   "cell_type": "code",
   "execution_count": null,
   "metadata": {},
   "outputs": [],
   "source": [
    "from glotaran.io import save_dataset\n",
    "from glotaran.utils.io import create_clp_guide_dataset\n",
    "\n",
    "for species in target_result.data[\"CF9212WLtr2\"].species:\n",
    "    clp_guide = create_clp_guide_dataset(\n",
    "        target_result.data[\"CF9212WLtr2\"], species.item()\n",
    "    )\n",
    "    string_in_string = \"guide/20230912PSI_CF9212_streak_targetWL_disp_{}.ascii\".format(\n",
    "        species.item()\n",
    "    )\n",
    "    save_dataset(clp_guide.data, string_in_string, allow_overwrite=True)"
   ]
  },
  {
   "cell_type": "markdown",
   "metadata": {},
   "source": [
    "### Print the estimates of the optimized parameters and their precision \n",
    "The t-values of the **free** parameters (Vary=True) indicate the precision"
   ]
  },
  {
   "cell_type": "code",
   "execution_count": null,
   "metadata": {},
   "outputs": [],
   "source": [
    "target_result.optimized_parameters"
   ]
  },
  {
   "cell_type": "markdown",
   "metadata": {},
   "source": [
    "### K-matrix target"
   ]
  },
  {
   "cell_type": "code",
   "execution_count": null,
   "metadata": {},
   "outputs": [],
   "source": [
    "compartments = target_scheme.model.initial_concentration[\"CF9212inputWL\"].compartments\n",
    "\n",
    "target_scheme.model.k_matrix[\"CF9212skmBulkWL\"].matrix_as_markdown(\n",
    "    compartments\n",
    ").replace(\"0.0000e+00\", \"\")"
   ]
  },
  {
   "cell_type": "markdown",
   "metadata": {},
   "source": [
    "#### Overview plots per dataset"
   ]
  },
  {
   "cell_type": "markdown",
   "metadata": {},
   "source": [
    "### WL data"
   ]
  },
  {
   "cell_type": "markdown",
   "metadata": {},
   "source": [
    "NB plot_overview with linlog=True is very slow, but it can be more informative because it zooms in on the early events"
   ]
  },
  {
   "cell_type": "code",
   "execution_count": null,
   "metadata": {},
   "outputs": [],
   "source": [
    "from cycler import cycler\n",
    "\n",
    "fig, axes = plot_overview(\n",
    "    target_result.data[\"CF9212WLtr1\"],\n",
    "    nr_of_data_svd_vectors=4,\n",
    "    nr_of_residual_svd_vectors=1,\n",
    "    # linlog=True,\n",
    "    linlog=False,\n",
    "    linthresh=100,\n",
    "    cycler=cycler(color=myFRLcolors),\n",
    "    use_svd_number=True,\n",
    "    das_cycler=PlotStyle().cycler,\n",
    "    svd_cycler=PlotStyle().cycler,\n",
    ")"
   ]
  },
  {
   "cell_type": "code",
   "execution_count": null,
   "metadata": {},
   "outputs": [],
   "source": [
    "from cycler import cycler\n",
    "\n",
    "fig, axes = plot_overview(\n",
    "    target_result.data[\"CF9212WLtr2\"],\n",
    "    nr_of_data_svd_vectors=4,\n",
    "    nr_of_residual_svd_vectors=1,\n",
    "    # linlog=True,\n",
    "    linlog=False,\n",
    "    linthresh=100,\n",
    "    cycler=cycler(color=myFRLcolors),\n",
    "    use_svd_number=True,\n",
    "    das_cycler=PlotStyle().cycler,\n",
    "    svd_cycler=PlotStyle().cycler,\n",
    ")"
   ]
  },
  {
   "cell_type": "code",
   "execution_count": null,
   "metadata": {},
   "outputs": [],
   "source": [
    "from cycler import cycler\n",
    "\n",
    "plot_overview(\n",
    "    target_result.data[\"CF9212WLtr4\"],\n",
    "    nr_of_data_svd_vectors=4,\n",
    "    nr_of_residual_svd_vectors=1,\n",
    "    linlog=False,\n",
    "    linthresh=100,\n",
    "    cycler=cycler(color=myFRLcolors),\n",
    "    use_svd_number=True,\n",
    "    das_cycler=PlotStyle().cycler,\n",
    "    svd_cycler=PlotStyle().cycler,\n",
    ")"
   ]
  },
  {
   "cell_type": "markdown",
   "metadata": {},
   "source": [
    "### Fit quality of the target analysis of the WL data\n",
    "overlays of traces and fits, first of 16 wavelengths, then of 6 selected wavelengths"
   ]
  },
  {
   "cell_type": "code",
   "execution_count": null,
   "metadata": {},
   "outputs": [],
   "source": [
    "CF9212target_result_streak = (\n",
    "    # target_result.data[\"CF9212FRLtr1\"],\n",
    "    target_result.data[\"CF9212WLtr1\"],\n",
    "    # target_result.data[\"CF9212FRLtr2\"],\n",
    "    target_result.data[\"CF9212WLtr2\"],\n",
    "    # target_result.data[\"CF9212FRLtr4\"],\n",
    "    target_result.data[\"CF9212WLtr4\"],\n",
    ")"
   ]
  },
  {
   "cell_type": "code",
   "execution_count": null,
   "metadata": {},
   "outputs": [],
   "source": [
    "import numpy as np\n",
    "\n",
    "# wavelengths = select_plot_wavelengths(\n",
    "#     CF9212target_result_streak, equidistant_wavelengths=True\n",
    "# )\n",
    "wavelengths = np.linspace(665, 795, num=16)\n",
    "plot_fitted_traces(CF9212target_result_streak, wavelengths, linlog=True, linthresh=100)"
   ]
  },
  {
   "cell_type": "code",
   "execution_count": null,
   "metadata": {},
   "outputs": [],
   "source": [
    "import warnings\n",
    "from pyglotaran_extras.plotting.style import ColorCode as cc\n",
    "\n",
    "with warnings.catch_warnings():\n",
    "    warnings.simplefilter(\"ignore\")\n",
    "    fig, ax_ = plot_fitted_traces(\n",
    "        CF9212target_result_streak,\n",
    "        [685, 705, 715, 740, 750, 795],\n",
    "        linlog=True,\n",
    "        linthresh=10,\n",
    "        axes_shape=(3, 2),\n",
    "        figsize=(8, 6),\n",
    "        title=\"\",\n",
    "        per_axis_legend=True,\n",
    "        cycler=cycler(\n",
    "            color=[\n",
    "                cc.grey,\n",
    "                cc.black,\n",
    "                cc.orange,\n",
    "                cc.red,\n",
    "                cc.cyan,\n",
    "                cc.blue,\n",
    "            ]\n",
    "        ),\n",
    "    )\n",
    "    handles, labels = ax_.flatten()[0].get_legend_handles_labels()\n",
    "    for i in range(len(handles)):\n",
    "        if i == 1:\n",
    "            labels[i] = \"TR1\"\n",
    "        elif i == 3:\n",
    "            labels[i] = \"TR2\"\n",
    "        elif i == 5:\n",
    "            labels[i] = \"TR4\"\n",
    "        else:\n",
    "            labels[i] = \"_Hidden\"\n",
    "    for idx, ax in enumerate(ax_.flatten()):\n",
    "        ax.set_ylabel(ax.title.get_text().replace(\"spectral = \", \"\"))\n",
    "        if idx > 1:\n",
    "            ax.set_xlabel(\"Time (ps)\")\n",
    "        else:\n",
    "            ax.set_xlabel(\"\")\n",
    "        ax.set_title(\"\")\n",
    "        if ax.get_legend() is not None:\n",
    "            ax.get_legend().remove()\n",
    "        for line in ax.lines:\n",
    "            # line.set_linewidth(0.5)  # Set the line width here\n",
    "            line.set_linewidth(1)  # Set the line width here\n",
    "    fig.legend(\n",
    "        handles,\n",
    "        labels,\n",
    "        bbox_to_anchor=(0.5, -0.05),\n",
    "        loc=\"lower center\",\n",
    "        ncol=len(handles),\n",
    "    )\n",
    "    fig.tight_layout()"
   ]
  }
 ],
 "metadata": {
  "kernelspec": {
   "display_name": "Python 3 (ipykernel)",
   "language": "python",
   "name": "python3"
  },
  "language_info": {
   "codemirror_mode": {
    "name": "ipython",
    "version": 3
   },
   "file_extension": ".py",
   "mimetype": "text/x-python",
   "name": "python",
   "nbconvert_exporter": "python",
   "pygments_lexer": "ipython3",
   "version": "3.10.6"
  },
  "vscode": {
   "interpreter": {
    "hash": "c96939a00adbd8139175687d27213cba589faa8203f47f613c3350e59358e0cf"
   }
  }
 },
 "nbformat": 4,
 "nbformat_minor": 4
}
